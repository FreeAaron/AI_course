{
 "cells": [
  {
   "cell_type": "markdown",
   "id": "e2ecf71e",
   "metadata": {},
   "source": [
    "# Object"
   ]
  },
  {
   "cell_type": "code",
   "execution_count": 1,
   "id": "3c3dba6d",
   "metadata": {},
   "outputs": [
    {
     "name": "stdout",
     "output_type": "stream",
     "text": [
      "2221232565424\n",
      "2221232565424\n",
      "140715771699072\n"
     ]
    }
   ],
   "source": [
    "a = 'hello'\n",
    "b = 'hello'\n",
    "c = 5\n",
    "print(id(a))\n",
    "print(id(b))\n",
    "print(id(c))"
   ]
  },
  {
   "cell_type": "code",
   "execution_count": 3,
   "id": "73efd18e",
   "metadata": {},
   "outputs": [
    {
     "name": "stdout",
     "output_type": "stream",
     "text": [
      "<class 'str'>\n",
      "<class 'str'>\n",
      "<class 'int'>\n"
     ]
    }
   ],
   "source": [
    "print(type(a))\n",
    "print(type(b))\n",
    "print(type(c))"
   ]
  },
  {
   "cell_type": "code",
   "execution_count": 4,
   "id": "bb23d2c0",
   "metadata": {},
   "outputs": [
    {
     "name": "stdout",
     "output_type": "stream",
     "text": [
      "140715771699072\n",
      "<class 'int'>\n"
     ]
    }
   ],
   "source": [
    "b = c\n",
    "print(id(b))\n",
    "print(type(b))"
   ]
  },
  {
   "cell_type": "markdown",
   "id": "98ce91c4",
   "metadata": {},
   "source": [
    "# Arithmetic Operators"
   ]
  },
  {
   "cell_type": "code",
   "execution_count": 6,
   "id": "f6a89bf6",
   "metadata": {},
   "outputs": [
    {
     "name": "stdout",
     "output_type": "stream",
     "text": [
      "a + b = 8\n",
      "a - b = 2\n",
      "a * b = 15\n",
      "a / b = 1.6666666666666667\n",
      "a % b = 2\n",
      "a ** b = 125\n",
      "a // b = 1\n"
     ]
    }
   ],
   "source": [
    "a = 5\n",
    "b = 3\n",
    "\n",
    "sum_num = a + b  #Addition\n",
    "sub_num = a - b  #Subtraction\n",
    "mul_num = a * b  #Multiplication\n",
    "div_num = a / b  #Division\n",
    "mod_num = a % b  #Modulus\n",
    "exp_num = a ** b  #Exponentiation\n",
    "int_div_num = a // b  #Floor divsion\n",
    "\n",
    "print('a + b = {}'.format(sum_num))\n",
    "print('a - b = {}'.format(sub_num))\n",
    "print('a * b = {}'.format(mul_num))\n",
    "print('a / b = {}'.format(div_num))\n",
    "print('a % b = {}'.format(mod_num))\n",
    "print('a ** b = {}'.format(exp_num))\n",
    "print('a // b = {}'.format(int_div_num))"
   ]
  },
  {
   "cell_type": "markdown",
   "id": "f1dc33b9",
   "metadata": {},
   "source": [
    "# Comparison Operators"
   ]
  },
  {
   "cell_type": "code",
   "execution_count": 7,
   "id": "a82ce374",
   "metadata": {},
   "outputs": [
    {
     "name": "stdout",
     "output_type": "stream",
     "text": [
      "False\n",
      "True\n",
      "True\n",
      "False\n",
      "True\n",
      "False\n"
     ]
    }
   ],
   "source": [
    "a = 5\n",
    "b = 3\n",
    "\n",
    "print((a == b))\n",
    "print((a != b))\n",
    "print((a > b))\n",
    "print((a < b))\n",
    "print((a >= b))\n",
    "print((a <= b))"
   ]
  },
  {
   "cell_type": "markdown",
   "id": "dbacc112",
   "metadata": {},
   "source": [
    "# Assignment Operators"
   ]
  },
  {
   "cell_type": "code",
   "execution_count": 8,
   "id": "ea41c7f8",
   "metadata": {},
   "outputs": [
    {
     "name": "stdout",
     "output_type": "stream",
     "text": [
      "8\n",
      "3\n",
      "6\n",
      "3.0\n"
     ]
    }
   ],
   "source": [
    "a = 5\n",
    "\n",
    "a = a + 3 # a+=3\n",
    "print(a)\n",
    "a -= 5\n",
    "print(a)\n",
    "a = a * 2 # a*=2\n",
    "print(a)\n",
    "a = a / 2 # a/=2\n",
    "print(a)"
   ]
  },
  {
   "cell_type": "markdown",
   "id": "1af63259",
   "metadata": {},
   "source": [
    "# Logical Operators"
   ]
  },
  {
   "cell_type": "code",
   "execution_count": 10,
   "id": "d359aacf",
   "metadata": {},
   "outputs": [
    {
     "name": "stdout",
     "output_type": "stream",
     "text": [
      "False\n"
     ]
    }
   ],
   "source": [
    "a = True\n",
    "b = False\n",
    "print(a and b)"
   ]
  },
  {
   "cell_type": "code",
   "execution_count": 11,
   "id": "74b37957",
   "metadata": {},
   "outputs": [
    {
     "name": "stdout",
     "output_type": "stream",
     "text": [
      "True\n"
     ]
    }
   ],
   "source": [
    "print(a or b)"
   ]
  },
  {
   "cell_type": "code",
   "execution_count": 12,
   "id": "3b2c8ed1",
   "metadata": {},
   "outputs": [
    {
     "name": "stdout",
     "output_type": "stream",
     "text": [
      "False\n"
     ]
    }
   ],
   "source": [
    "print(not a)"
   ]
  },
  {
   "cell_type": "code",
   "execution_count": 13,
   "id": "d0847800",
   "metadata": {},
   "outputs": [
    {
     "data": {
      "text/plain": [
       "True"
      ]
     },
     "execution_count": 13,
     "metadata": {},
     "output_type": "execute_result"
    }
   ],
   "source": [
    "not(a and b)"
   ]
  },
  {
   "cell_type": "markdown",
   "id": "dc62d86c",
   "metadata": {},
   "source": [
    "# Membership Operators"
   ]
  },
  {
   "cell_type": "code",
   "execution_count": 14,
   "id": "ea5c0671",
   "metadata": {},
   "outputs": [
    {
     "name": "stdout",
     "output_type": "stream",
     "text": [
      "True\n"
     ]
    }
   ],
   "source": [
    "a = 5\n",
    "b = [1, 2, 3, 4, 5, 6]\n",
    "print(a in b)"
   ]
  },
  {
   "cell_type": "code",
   "execution_count": 15,
   "id": "59748f9a",
   "metadata": {},
   "outputs": [
    {
     "name": "stdout",
     "output_type": "stream",
     "text": [
      "False\n"
     ]
    }
   ],
   "source": [
    "print(a not in b)"
   ]
  },
  {
   "cell_type": "markdown",
   "id": "227b2064",
   "metadata": {},
   "source": [
    "# Identity Operators"
   ]
  },
  {
   "cell_type": "code",
   "execution_count": 16,
   "id": "84dd2c37",
   "metadata": {},
   "outputs": [
    {
     "name": "stdout",
     "output_type": "stream",
     "text": [
      "False\n"
     ]
    }
   ],
   "source": [
    "print(a is b)"
   ]
  },
  {
   "cell_type": "code",
   "execution_count": 17,
   "id": "1c8a9066",
   "metadata": {},
   "outputs": [
    {
     "name": "stdout",
     "output_type": "stream",
     "text": [
      "True\n"
     ]
    }
   ],
   "source": [
    "print(a is not b)"
   ]
  },
  {
   "cell_type": "markdown",
   "id": "6376c77c",
   "metadata": {},
   "source": [
    "# Bitwise Operators"
   ]
  },
  {
   "cell_type": "code",
   "execution_count": 21,
   "id": "fef34f90",
   "metadata": {},
   "outputs": [
    {
     "name": "stdout",
     "output_type": "stream",
     "text": [
      "0\n",
      "14\n",
      "0\n",
      "14\n",
      "0\n",
      "14\n"
     ]
    }
   ],
   "source": [
    "a = 10\n",
    "b = 4\n",
    "print(a & b)\n",
    "print(a | b)\n",
    "c = 0b1010 #10\n",
    "d = 0b0100 #4\n",
    "print(c & d) #0b0000\n",
    "print(c | d) #0b1110\n",
    "print(0b0000)\n",
    "print(0b1110)"
   ]
  },
  {
   "cell_type": "code",
   "execution_count": 23,
   "id": "ba66fce1",
   "metadata": {},
   "outputs": [
    {
     "name": "stdout",
     "output_type": "stream",
     "text": [
      "2\n",
      "40\n"
     ]
    }
   ],
   "source": [
    "a = 10 \n",
    "print(a >> 2)  #右移兩位 (除四)\n",
    "print(a << 2)  #左移兩位 (乘四)"
   ]
  },
  {
   "cell_type": "code",
   "execution_count": null,
   "id": "3e8aa216",
   "metadata": {},
   "outputs": [],
   "source": []
  }
 ],
 "metadata": {
  "kernelspec": {
   "display_name": "Python 3 (ipykernel)",
   "language": "python",
   "name": "python3"
  },
  "language_info": {
   "codemirror_mode": {
    "name": "ipython",
    "version": 3
   },
   "file_extension": ".py",
   "mimetype": "text/x-python",
   "name": "python",
   "nbconvert_exporter": "python",
   "pygments_lexer": "ipython3",
   "version": "3.8.12"
  }
 },
 "nbformat": 4,
 "nbformat_minor": 5
}
