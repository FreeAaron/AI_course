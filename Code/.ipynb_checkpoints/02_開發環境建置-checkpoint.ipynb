{
 "cells": [
  {
   "cell_type": "code",
   "execution_count": 1,
   "id": "7770a8b2",
   "metadata": {},
   "outputs": [
    {
     "name": "stdout",
     "output_type": "stream",
     "text": [
      "雙引號\n",
      "或單引號都一樣\n"
     ]
    }
   ],
   "source": [
    "#this is comment line\n",
    "#第二行\n",
    "'''\n",
    "區塊註解\n",
    "'''\n",
    "print(\"雙引號\")\n",
    "print('或單引號都一樣')"
   ]
  },
  {
   "cell_type": "markdown",
   "id": "24af6712",
   "metadata": {},
   "source": [
    "----\n",
    "這是Markdown part  \n",
    "\n",
    "按ESC跟Enter可以切換狀態  \n",
    "\n",
    "Cell為藍色狀態時可按\"M\"進行快捷鍵切換  \n",
    "\n",
    "綠色為可打字狀態  \n",
    "\n",
    "要換行要打空格兩次\n",
    "---\n",
    "\"Y\"為Code之快捷鍵\n"
   ]
  },
  {
   "cell_type": "markdown",
   "id": "c7a548c1",
   "metadata": {},
   "source": [
    "# 最大的字體 #空格\n",
    "## 第二大的字體 ##空格\n",
    "## 第三大的字體 ###空格"
   ]
  },
  {
   "cell_type": "markdown",
   "id": "1badef44",
   "metadata": {},
   "source": [
    "- 第一項  \n",
    "- 第二項"
   ]
  },
  {
   "cell_type": "markdown",
   "id": "87ec5c15",
   "metadata": {},
   "source": [
    "- 第一項\n",
    "    - 縮排項\n",
    "    - 縮排項\n",
    "- 第二項"
   ]
  },
  {
   "cell_type": "markdown",
   "id": "115c5f5a",
   "metadata": {},
   "source": [
    "* 第一list\n",
    "* 第二list\n",
    "\n",
    "> 塊狀引用blockquote"
   ]
  },
  {
   "cell_type": "markdown",
   "id": "0f9ad7f8",
   "metadata": {},
   "source": [
    "![my_image](./test.jpg) 引用照片"
   ]
  }
 ],
 "metadata": {
  "kernelspec": {
   "display_name": "Python 3 (ipykernel)",
   "language": "python",
   "name": "python3"
  },
  "language_info": {
   "codemirror_mode": {
    "name": "ipython",
    "version": 3
   },
   "file_extension": ".py",
   "mimetype": "text/x-python",
   "name": "python",
   "nbconvert_exporter": "python",
   "pygments_lexer": "ipython3",
   "version": "3.8.12"
  }
 },
 "nbformat": 4,
 "nbformat_minor": 5
}
