{
 "cells": [
  {
   "cell_type": "markdown",
   "id": "1c769157",
   "metadata": {},
   "source": [
    "# Python keyword"
   ]
  },
  {
   "cell_type": "code",
   "execution_count": 1,
   "id": "e147c400",
   "metadata": {},
   "outputs": [
    {
     "name": "stdout",
     "output_type": "stream",
     "text": [
      "['False', 'None', 'True', 'and', 'as', 'assert', 'async', 'await', 'break', 'class', 'continue', 'def', 'del', 'elif', 'else', 'except', 'finally', 'for', 'from', 'global', 'if', 'import', 'in', 'is', 'lambda', 'nonlocal', 'not', 'or', 'pass', 'raise', 'return', 'try', 'while', 'with', 'yield']\n"
     ]
    }
   ],
   "source": [
    "import keyword\n",
    "\n",
    "print(keyword.kwlist)"
   ]
  },
  {
   "cell_type": "code",
   "execution_count": 3,
   "id": "49df4488",
   "metadata": {},
   "outputs": [
    {
     "name": "stdout",
     "output_type": "stream",
     "text": [
      "True\n"
     ]
    }
   ],
   "source": [
    "print(keyword.iskeyword('if'))"
   ]
  },
  {
   "cell_type": "code",
   "execution_count": 4,
   "id": "ec9649b7",
   "metadata": {},
   "outputs": [
    {
     "name": "stdout",
     "output_type": "stream",
     "text": [
      "False\n"
     ]
    }
   ],
   "source": [
    "print(keyword.iskeyword(\"IF\"))"
   ]
  },
  {
   "cell_type": "markdown",
   "id": "50f7b684",
   "metadata": {},
   "source": [
    "# 多行敘述\n",
    "> 在 Python 程式語言裡面，可以使用反斜線(\\\\)做多行敘述  \n",
    "* 可以把多行視為是同一行指令\n"
   ]
  },
  {
   "cell_type": "code",
   "execution_count": 25,
   "id": "a82a2143",
   "metadata": {},
   "outputs": [
    {
     "name": "stdout",
     "output_type": "stream",
     "text": [
      "do something\n"
     ]
    }
   ],
   "source": [
    "a=7\n",
    "b=6\n",
    "c=5\n",
    "d=0\n",
    "if a < 10 and b > 5 \\\n",
    "    and c < 6 and d > -1:\n",
    "        print('do something')"
   ]
  },
  {
   "cell_type": "markdown",
   "id": "bb32e164",
   "metadata": {},
   "source": [
    "# Identifier\n",
    "identifier 是用來區分不同變數(variable)、函數(function)、類別 (class) 的名稱"
   ]
  },
  {
   "cell_type": "code",
   "execution_count": 6,
   "id": "dff3bcbf",
   "metadata": {},
   "outputs": [
    {
     "name": "stdout",
     "output_type": "stream",
     "text": [
      "True\n"
     ]
    }
   ],
   "source": [
    "print(\"abc\".isidentifier())"
   ]
  },
  {
   "cell_type": "code",
   "execution_count": 7,
   "id": "8a15ad67",
   "metadata": {},
   "outputs": [
    {
     "name": "stdout",
     "output_type": "stream",
     "text": [
      "False\n"
     ]
    }
   ],
   "source": [
    "print(\"99a\".isidentifier())"
   ]
  },
  {
   "cell_type": "code",
   "execution_count": 8,
   "id": "363dd70c",
   "metadata": {},
   "outputs": [
    {
     "name": "stdout",
     "output_type": "stream",
     "text": [
      "True\n"
     ]
    }
   ],
   "source": [
    "print(\"_\".isidentifier())"
   ]
  },
  {
   "cell_type": "code",
   "execution_count": 24,
   "id": "9a4b580c",
   "metadata": {},
   "outputs": [
    {
     "name": "stdout",
     "output_type": "stream",
     "text": [
      "True\n"
     ]
    }
   ],
   "source": [
    "print(\"for\".isidentifier()) #合法但不建議使用 因為是keyword"
   ]
  },
  {
   "cell_type": "code",
   "execution_count": 12,
   "id": "6a79ec6e",
   "metadata": {},
   "outputs": [
    {
     "data": {
      "text/plain": [
       "'\\nthis is XXX  \\njupyter notebook預設會把最後一行結果顯示出來\\n'"
      ]
     },
     "execution_count": 12,
     "metadata": {},
     "output_type": "execute_result"
    }
   ],
   "source": [
    "#this is my note\n",
    "'''\n",
    "this is XXX  \n",
    "jupyter notebook預設會把最後一行結果顯示出來\n",
    "'''"
   ]
  },
  {
   "cell_type": "markdown",
   "id": "fe0a52cb",
   "metadata": {},
   "source": [
    "# Basic Operator"
   ]
  },
  {
   "cell_type": "code",
   "execution_count": 13,
   "id": "21e67b15",
   "metadata": {},
   "outputs": [
    {
     "name": "stdout",
     "output_type": "stream",
     "text": [
      "abc123456\n",
      "abcdef\n"
     ]
    }
   ],
   "source": [
    "a = 'abc123456'\n",
    "b = 'abcdef'\n",
    "\n",
    "print(a)\n",
    "print(b)"
   ]
  },
  {
   "cell_type": "code",
   "execution_count": 14,
   "id": "ee549f7c",
   "metadata": {},
   "outputs": [
    {
     "name": "stdout",
     "output_type": "stream",
     "text": [
      "2\n",
      "3\n",
      "5\n"
     ]
    }
   ],
   "source": [
    "a = 2\n",
    "b = 3\n",
    "c = a + b\n",
    "print(a)\n",
    "print(b)\n",
    "print(c)"
   ]
  },
  {
   "cell_type": "code",
   "execution_count": 15,
   "id": "fa038a8a",
   "metadata": {},
   "outputs": [
    {
     "name": "stdout",
     "output_type": "stream",
     "text": [
      "-1\n"
     ]
    }
   ],
   "source": [
    "c = a - b\n",
    "print(c)"
   ]
  },
  {
   "cell_type": "code",
   "execution_count": 18,
   "id": "e3423a36",
   "metadata": {},
   "outputs": [
    {
     "name": "stdout",
     "output_type": "stream",
     "text": [
      "6\n"
     ]
    }
   ],
   "source": [
    "c= a * b\n",
    "print(c)"
   ]
  },
  {
   "cell_type": "code",
   "execution_count": 20,
   "id": "ae50a413",
   "metadata": {},
   "outputs": [
    {
     "name": "stdout",
     "output_type": "stream",
     "text": [
      "0\n"
     ]
    }
   ],
   "source": [
    "print(a//b)\n",
    "#小數點捨去"
   ]
  },
  {
   "cell_type": "code",
   "execution_count": 21,
   "id": "329678e3",
   "metadata": {},
   "outputs": [
    {
     "name": "stdout",
     "output_type": "stream",
     "text": [
      "8\n"
     ]
    }
   ],
   "source": [
    "print(a**b)\n",
    "#**為幾次方"
   ]
  },
  {
   "cell_type": "markdown",
   "id": "dd3c90cc",
   "metadata": {},
   "source": [
    "# print function"
   ]
  },
  {
   "cell_type": "code",
   "execution_count": 22,
   "id": "56b2d162",
   "metadata": {},
   "outputs": [
    {
     "name": "stdout",
     "output_type": "stream",
     "text": [
      "a is 3,b is 2, c is 1\n"
     ]
    }
   ],
   "source": [
    "a = 3\n",
    "b = 2\n",
    "c = 1\n",
    "print('a is {},b is {}, c is {}'.format(a, b, c))"
   ]
  },
  {
   "cell_type": "code",
   "execution_count": 23,
   "id": "2ce5df31",
   "metadata": {},
   "outputs": [
    {
     "name": "stdout",
     "output_type": "stream",
     "text": [
      "這是第一行\n",
      "這是第二行\n",
      "這是第三行\n"
     ]
    }
   ],
   "source": [
    "print('這是第一行\\n這是第二行\\n這是第三行')"
   ]
  },
  {
   "cell_type": "code",
   "execution_count": 26,
   "id": "6b996dce",
   "metadata": {},
   "outputs": [
    {
     "name": "stdout",
     "output_type": "stream",
     "text": [
      "兩個斜線可以留住像\\n這種逃脫字元\n"
     ]
    }
   ],
   "source": [
    "print('兩個斜線可以留住像\\\\n這種逃脫字元')"
   ]
  },
  {
   "cell_type": "markdown",
   "id": "d9fbece4",
   "metadata": {},
   "source": [
    "> ### 縮排(indentation)可以用tab或四個空白鍵，但不要混用，會出現錯誤"
   ]
  },
  {
   "cell_type": "code",
   "execution_count": 27,
   "id": "01cda47f",
   "metadata": {},
   "outputs": [
    {
     "name": "stdout",
     "output_type": "stream",
     "text": [
      "print結束預設已經會給一個換行\n",
      "第二行\n"
     ]
    }
   ],
   "source": [
    "print('print結束預設已經會給一個換行',end='\\n')\n",
    "print('第二行')"
   ]
  },
  {
   "cell_type": "code",
   "execution_count": 28,
   "id": "27f99adf",
   "metadata": {},
   "outputs": [
    {
     "name": "stdout",
     "output_type": "stream",
     "text": [
      "所以如果不要換行 可以這樣結尾"
     ]
    }
   ],
   "source": [
    "print('所以如果不要換行',end=' ')\n",
    "print('可以這樣結尾',end='')"
   ]
  },
  {
   "cell_type": "markdown",
   "id": "56fcb4cb",
   "metadata": {},
   "source": [
    "### Jupyter Notebook 快捷鍵參考資料\n",
    "> https://www.itread01.com/content/1547103635.html "
   ]
  },
  {
   "cell_type": "markdown",
   "id": "fa77a05a",
   "metadata": {},
   "source": [
    "# input function\n",
    "---\n",
    "> ## input函數可以讓使用者從鍵盤上輸入任意\"字串\"(預設為字串) "
   ]
  },
  {
   "cell_type": "code",
   "execution_count": null,
   "id": "06871d32",
   "metadata": {},
   "outputs": [],
   "source": [
    "number = input('input a number')\n",
    "flo"
   ]
  }
 ],
 "metadata": {
  "kernelspec": {
   "display_name": "Python 3 (ipykernel)",
   "language": "python",
   "name": "python3"
  },
  "language_info": {
   "codemirror_mode": {
    "name": "ipython",
    "version": 3
   },
   "file_extension": ".py",
   "mimetype": "text/x-python",
   "name": "python",
   "nbconvert_exporter": "python",
   "pygments_lexer": "ipython3",
   "version": "3.8.12"
  }
 },
 "nbformat": 4,
 "nbformat_minor": 5
}
