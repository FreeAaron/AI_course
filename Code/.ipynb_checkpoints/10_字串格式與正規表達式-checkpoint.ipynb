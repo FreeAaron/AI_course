{
 "cells": [
  {
   "cell_type": "markdown",
   "id": "aad8daaf",
   "metadata": {},
   "source": [
    "# String Format"
   ]
  },
  {
   "cell_type": "code",
   "execution_count": 7,
   "id": "fef6f7e4",
   "metadata": {},
   "outputs": [
    {
     "name": "stdout",
     "output_type": "stream",
     "text": [
      "a = 3, b = 2.1, c = hello\n",
      "a = 3, b = 2.1, c = hello\n",
      "c = hello, b = 2.1, a = 3\n",
      "c = hello, b = 2.1, a = 3\n",
      "a = 3, b = 2.1, c = hello\n"
     ]
    }
   ],
   "source": [
    "a = 3\n",
    "b = 2.1\n",
    "c = 'hello'\n",
    "print('a = {}, b = {}, c = {}'.format(a,b,c))\n",
    "print('a = {0}, b = {1}, c = {2}'.format(a,b,c))\n",
    "print('c = {2}, b = {1}, a = {0}'.format(a,b,c))  #{}裡面數字就是後面format第幾個\n",
    "print('c = {0}, b = {1}, a = {2}'.format(c,b,a))\n",
    "print('a = {2}, b = {1}, c = {0}'.format(c,b,a))"
   ]
  },
  {
   "cell_type": "code",
   "execution_count": 8,
   "id": "d70bc9ce",
   "metadata": {},
   "outputs": [
    {
     "name": "stdout",
     "output_type": "stream",
     "text": [
      "abc,edf\n"
     ]
    }
   ],
   "source": [
    "a = 'abc'\n",
    "b = 'edf'\n",
    "\n",
    "print('{text1}, {text2}'.format(text1=a, text2=b))"
   ]
  },
  {
   "cell_type": "code",
   "execution_count": 14,
   "id": "555ccf27",
   "metadata": {},
   "outputs": [
    {
     "name": "stdout",
     "output_type": "stream",
     "text": [
      "abc, edf\n"
     ]
    }
   ],
   "source": [
    "my_list = ['abc', 'edf']\n",
    "print('{0[0]}, {0[1]}'.format(my_list))  #前面零是format第幾個，後面數字是list第幾個"
   ]
  },
  {
   "cell_type": "code",
   "execution_count": 15,
   "id": "adcd5aee",
   "metadata": {},
   "outputs": [
    {
     "name": "stdout",
     "output_type": "stream",
     "text": [
      "abc, edf\n"
     ]
    }
   ],
   "source": [
    "my_tuple = ('abc', 'edf')\n",
    "print('{0[0]}, {0[1]}'.format(my_tuple))"
   ]
  },
  {
   "cell_type": "code",
   "execution_count": 29,
   "id": "05055d46",
   "metadata": {},
   "outputs": [
    {
     "name": "stdout",
     "output_type": "stream",
     "text": [
      "         3\n",
      "  3.000000\n",
      "  2.112321\n",
      "      2.11\n",
      "hello     \n"
     ]
    }
   ],
   "source": [
    "a = 3\n",
    "b = 2.112321345566\n",
    "c = 'hello'\n",
    "print('{0:10d}'.format(a))  #Set width to 10\n",
    "print('{0:10f}'.format(a))\n",
    "print('{0:10f}'.format(b))  \n",
    "print('{0:10.2f}'.format(b))\n",
    "print('{0:10s}'.format(c))"
   ]
  },
  {
   "cell_type": "code",
   "execution_count": 30,
   "id": "acf49813",
   "metadata": {},
   "outputs": [
    {
     "name": "stdout",
     "output_type": "stream",
     "text": [
      "         3\n",
      "  2.112321\n",
      "      2.11\n",
      "     hello\n"
     ]
    }
   ],
   "source": [
    "a = 3\n",
    "b = 2.112321345566\n",
    "c = 'hello'\n",
    "print('{0:>10d}'.format(a))\n",
    "print('{0:>10f}'.format(b))\n",
    "print('{0:>10.2f}'.format(b))\n",
    "print('{0:>10s}'.format(c))\n",
    "#Align to the right"
   ]
  },
  {
   "cell_type": "code",
   "execution_count": 32,
   "id": "769d9f64",
   "metadata": {},
   "outputs": [
    {
     "name": "stdout",
     "output_type": "stream",
     "text": [
      "3         \n",
      "2.112321  \n",
      "2.11      \n",
      "hello     \n"
     ]
    }
   ],
   "source": [
    "a = 3\n",
    "b = 2.112321345566\n",
    "c = 'hello'\n",
    "print('{0:<10d}'.format(a))\n",
    "print('{0:<10f}'.format(b))\n",
    "print('{0:<10.2f}'.format(b))\n",
    "print('{0:<10s}'.format(c))\n",
    "#Align to the right"
   ]
  },
  {
   "cell_type": "code",
   "execution_count": 36,
   "id": "48bb4330",
   "metadata": {},
   "outputs": [
    {
     "name": "stdout",
     "output_type": "stream",
     "text": [
      "    3     \n",
      " 2.112321 \n",
      "   2.11   \n",
      "  hello   \n"
     ]
    }
   ],
   "source": [
    "a = 3\n",
    "b = 2.112321345566\n",
    "c = 'hello'\n",
    "print('{:^10d}'.format(a))\n",
    "print('{0:^10f}'.format(b))\n",
    "print('{0:^10.2f}'.format(b))\n",
    "print('{0:^10s}'.format(c))"
   ]
  },
  {
   "cell_type": "code",
   "execution_count": 40,
   "id": "b9b28188",
   "metadata": {},
   "outputs": [
    {
     "name": "stdout",
     "output_type": "stream",
     "text": [
      "int: 1273212, bin: 100110110110101111100, oct: 4666574, hex: 136d7c\n",
      "int: 1273212, bin: 0b100110110110101111100, oct: 0o4666574, hex: 0x136d7c\n",
      "1,273,212\n"
     ]
    }
   ],
   "source": [
    "a = 1273212\n",
    "print('int: {0:d}, bin: {0:b}, oct: {0:o}, hex: {0:x}'.format(a))\n",
    "print('int: {0:#d}, bin: {0:#b}, oct: {0:#o}, hex: {0:#x}'.format(a))\n",
    "print('{:,}'.format(a))"
   ]
  },
  {
   "cell_type": "code",
   "execution_count": 48,
   "id": "ffa91506",
   "metadata": {},
   "outputs": [
    {
     "name": "stdout",
     "output_type": "stream",
     "text": [
      "2020 - 01 - 01 12:33:43\n",
      "2020 / 01 / 01 12 : 33 : 43\n"
     ]
    }
   ],
   "source": [
    "import datetime\n",
    "\n",
    "d = datetime.datetime(2020, 1, 1, 12, 33, 43)\n",
    "print('{:%Y - %m - %d %H:%M:%S}'.format(d))\n",
    "print('{:%Y / %m / %d %H : %M : %S}'.format(d))"
   ]
  },
  {
   "cell_type": "code",
   "execution_count": 49,
   "id": "7cd980a9",
   "metadata": {},
   "outputs": [
    {
     "data": {
      "text/plain": [
       "'percentage = 57.58%'"
      ]
     },
     "execution_count": 49,
     "metadata": {},
     "output_type": "execute_result"
    }
   ],
   "source": [
    "a = 33\n",
    "b = 19\n",
    "'percentage = {:.2%}'.format(b/a)"
   ]
  },
  {
   "cell_type": "code",
   "execution_count": null,
   "id": "4471a761",
   "metadata": {},
   "outputs": [],
   "source": []
  }
 ],
 "metadata": {
  "kernelspec": {
   "display_name": "Python 3 (ipykernel)",
   "language": "python",
   "name": "python3"
  },
  "language_info": {
   "codemirror_mode": {
    "name": "ipython",
    "version": 3
   },
   "file_extension": ".py",
   "mimetype": "text/x-python",
   "name": "python",
   "nbconvert_exporter": "python",
   "pygments_lexer": "ipython3",
   "version": "3.8.12"
  }
 },
 "nbformat": 4,
 "nbformat_minor": 5
}
