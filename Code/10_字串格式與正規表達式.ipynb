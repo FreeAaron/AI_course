{
 "cells": [
  {
   "cell_type": "markdown",
   "id": "aad8daaf",
   "metadata": {},
   "source": [
    "# String Format"
   ]
  },
  {
   "cell_type": "code",
   "execution_count": 7,
   "id": "fef6f7e4",
   "metadata": {},
   "outputs": [
    {
     "name": "stdout",
     "output_type": "stream",
     "text": [
      "a = 3, b = 2.1, c = hello\n",
      "a = 3, b = 2.1, c = hello\n",
      "c = hello, b = 2.1, a = 3\n",
      "c = hello, b = 2.1, a = 3\n",
      "a = 3, b = 2.1, c = hello\n"
     ]
    }
   ],
   "source": [
    "a = 3\n",
    "b = 2.1\n",
    "c = 'hello'\n",
    "print('a = {}, b = {}, c = {}'.format(a,b,c))\n",
    "print('a = {0}, b = {1}, c = {2}'.format(a,b,c))\n",
    "print('c = {2}, b = {1}, a = {0}'.format(a,b,c))  #{}裡面數字就是後面format第幾個\n",
    "print('c = {0}, b = {1}, a = {2}'.format(c,b,a))\n",
    "print('a = {2}, b = {1}, c = {0}'.format(c,b,a))"
   ]
  },
  {
   "cell_type": "code",
   "execution_count": 8,
   "id": "d70bc9ce",
   "metadata": {},
   "outputs": [
    {
     "name": "stdout",
     "output_type": "stream",
     "text": [
      "abc,edf\n"
     ]
    }
   ],
   "source": [
    "a = 'abc'\n",
    "b = 'edf'\n",
    "\n",
    "print('{text1}, {text2}'.format(text1=a, text2=b))"
   ]
  },
  {
   "cell_type": "code",
   "execution_count": 14,
   "id": "555ccf27",
   "metadata": {},
   "outputs": [
    {
     "name": "stdout",
     "output_type": "stream",
     "text": [
      "abc, edf\n"
     ]
    }
   ],
   "source": [
    "my_list = ['abc', 'edf']\n",
    "print('{0[0]}, {0[1]}'.format(my_list))  #前面零是format第幾個，後面數字是list第幾個"
   ]
  },
  {
   "cell_type": "code",
   "execution_count": 15,
   "id": "adcd5aee",
   "metadata": {},
   "outputs": [
    {
     "name": "stdout",
     "output_type": "stream",
     "text": [
      "abc, edf\n"
     ]
    }
   ],
   "source": [
    "my_tuple = ('abc', 'edf')\n",
    "print('{0[0]}, {0[1]}'.format(my_tuple))"
   ]
  },
  {
   "cell_type": "code",
   "execution_count": 29,
   "id": "05055d46",
   "metadata": {},
   "outputs": [
    {
     "name": "stdout",
     "output_type": "stream",
     "text": [
      "         3\n",
      "  3.000000\n",
      "  2.112321\n",
      "      2.11\n",
      "hello     \n"
     ]
    }
   ],
   "source": [
    "a = 3\n",
    "b = 2.112321345566\n",
    "c = 'hello'\n",
    "print('{0:10d}'.format(a))  #Set width to 10\n",
    "print('{0:10f}'.format(a))\n",
    "print('{0:10f}'.format(b))  \n",
    "print('{0:10.2f}'.format(b))\n",
    "print('{0:10s}'.format(c))"
   ]
  },
  {
   "cell_type": "code",
   "execution_count": 30,
   "id": "acf49813",
   "metadata": {},
   "outputs": [
    {
     "name": "stdout",
     "output_type": "stream",
     "text": [
      "         3\n",
      "  2.112321\n",
      "      2.11\n",
      "     hello\n"
     ]
    }
   ],
   "source": [
    "a = 3\n",
    "b = 2.112321345566\n",
    "c = 'hello'\n",
    "print('{0:>10d}'.format(a))\n",
    "print('{0:>10f}'.format(b))\n",
    "print('{0:>10.2f}'.format(b))\n",
    "print('{0:>10s}'.format(c))\n",
    "#Align to the right"
   ]
  },
  {
   "cell_type": "code",
   "execution_count": 32,
   "id": "769d9f64",
   "metadata": {},
   "outputs": [
    {
     "name": "stdout",
     "output_type": "stream",
     "text": [
      "3         \n",
      "2.112321  \n",
      "2.11      \n",
      "hello     \n"
     ]
    }
   ],
   "source": [
    "a = 3\n",
    "b = 2.112321345566\n",
    "c = 'hello'\n",
    "print('{0:<10d}'.format(a))\n",
    "print('{0:<10f}'.format(b))\n",
    "print('{0:<10.2f}'.format(b))\n",
    "print('{0:<10s}'.format(c))\n",
    "#Align to the right"
   ]
  },
  {
   "cell_type": "code",
   "execution_count": 36,
   "id": "48bb4330",
   "metadata": {},
   "outputs": [
    {
     "name": "stdout",
     "output_type": "stream",
     "text": [
      "    3     \n",
      " 2.112321 \n",
      "   2.11   \n",
      "  hello   \n"
     ]
    }
   ],
   "source": [
    "a = 3\n",
    "b = 2.112321345566\n",
    "c = 'hello'\n",
    "print('{:^10d}'.format(a))\n",
    "print('{0:^10f}'.format(b))\n",
    "print('{0:^10.2f}'.format(b))\n",
    "print('{0:^10s}'.format(c))"
   ]
  },
  {
   "cell_type": "code",
   "execution_count": 40,
   "id": "b9b28188",
   "metadata": {},
   "outputs": [
    {
     "name": "stdout",
     "output_type": "stream",
     "text": [
      "int: 1273212, bin: 100110110110101111100, oct: 4666574, hex: 136d7c\n",
      "int: 1273212, bin: 0b100110110110101111100, oct: 0o4666574, hex: 0x136d7c\n",
      "1,273,212\n"
     ]
    }
   ],
   "source": [
    "a = 1273212\n",
    "print('int: {0:d}, bin: {0:b}, oct: {0:o}, hex: {0:x}'.format(a))\n",
    "print('int: {0:#d}, bin: {0:#b}, oct: {0:#o}, hex: {0:#x}'.format(a))\n",
    "print('{:,}'.format(a))"
   ]
  },
  {
   "cell_type": "code",
   "execution_count": 48,
   "id": "ffa91506",
   "metadata": {},
   "outputs": [
    {
     "name": "stdout",
     "output_type": "stream",
     "text": [
      "2020 - 01 - 01 12:33:43\n",
      "2020 / 01 / 01 12 : 33 : 43\n"
     ]
    }
   ],
   "source": [
    "import datetime\n",
    "\n",
    "d = datetime.datetime(2020, 1, 1, 12, 33, 43)\n",
    "print('{:%Y - %m - %d %H:%M:%S}'.format(d))\n",
    "print('{:%Y / %m / %d %H : %M : %S}'.format(d))"
   ]
  },
  {
   "cell_type": "code",
   "execution_count": 49,
   "id": "7cd980a9",
   "metadata": {},
   "outputs": [
    {
     "data": {
      "text/plain": [
       "'percentage = 57.58%'"
      ]
     },
     "execution_count": 49,
     "metadata": {},
     "output_type": "execute_result"
    }
   ],
   "source": [
    "a = 33\n",
    "b = 19\n",
    "'percentage = {:.2%}'.format(b/a)"
   ]
  },
  {
   "cell_type": "markdown",
   "id": "58a618e4",
   "metadata": {},
   "source": [
    "# Regular Expression"
   ]
  },
  {
   "cell_type": "code",
   "execution_count": 3,
   "id": "22b7af51",
   "metadata": {},
   "outputs": [
    {
     "name": "stdout",
     "output_type": "stream",
     "text": [
      "YES! We have a match!\n"
     ]
    }
   ],
   "source": [
    "import re\n",
    "\n",
    "#Check if the string starts with \"The\" and ends with \"Spain\":\n",
    "\n",
    "txt = \"The rain in Spain\"\n",
    "x = re.match(\"^The.*Spain$\", txt)\n",
    "\n",
    "if (x):\n",
    "    print(\"YES! We have a match!\")\n",
    "else:\n",
    "    print(\"No match\")"
   ]
  },
  {
   "cell_type": "code",
   "execution_count": 4,
   "id": "4db84a9e",
   "metadata": {},
   "outputs": [
    {
     "name": "stdout",
     "output_type": "stream",
     "text": [
      "No match\n"
     ]
    }
   ],
   "source": [
    "import re\n",
    "\n",
    "txt = \"ABC123 The rain in Spain\"\n",
    "x = re.match(\"^The.*Spain$\", txt)\n",
    "\n",
    "if (x):\n",
    "    print(\"YES! We have a match!\")\n",
    "else:\n",
    "    print(\"No match\")"
   ]
  },
  {
   "cell_type": "code",
   "execution_count": 5,
   "id": "f5cb0adf",
   "metadata": {},
   "outputs": [
    {
     "name": "stdout",
     "output_type": "stream",
     "text": [
      "YES! We have a match!\n"
     ]
    }
   ],
   "source": [
    "import re\n",
    "\n",
    "#Check if the string starts with \"The\" and ends with \"Spain\":\n",
    "\n",
    "txt = \"The 21313 rain in Spain\"\n",
    "x = re.search(\"^The.*Spain$\", txt)\n",
    "\n",
    "if (x):\n",
    "    print(\"YES! We have a match!\")\n",
    "else:\n",
    "    print(\"No match\")\n"
   ]
  },
  {
   "cell_type": "code",
   "execution_count": 8,
   "id": "ce84d732",
   "metadata": {},
   "outputs": [
    {
     "name": "stdout",
     "output_type": "stream",
     "text": [
      "YES! We have a match!\n"
     ]
    }
   ],
   "source": [
    "import re\n",
    "\n",
    "#Check if the string starts with \"The\" and ends with \"Spain\":\n",
    "\n",
    "txt = \"ABC The rain in Spain\"\n",
    "x = re.search(\"The.*Spain$\", txt)\n",
    "\n",
    "if (x):\n",
    "    print(\"YES! We have a match!\")\n",
    "else:\n",
    "    print(\"No match\")"
   ]
  },
  {
   "cell_type": "code",
   "execution_count": 9,
   "id": "b479404d",
   "metadata": {},
   "outputs": [
    {
     "name": "stdout",
     "output_type": "stream",
     "text": [
      "None\n"
     ]
    }
   ],
   "source": [
    "import re\n",
    "\n",
    "txt = \"The rain in Spain\"\n",
    "x = re.search(\"Portugal\",txt)\n",
    "print(x)"
   ]
  },
  {
   "cell_type": "code",
   "execution_count": 21,
   "id": "3ccc0660",
   "metadata": {},
   "outputs": [
    {
     "name": "stdout",
     "output_type": "stream",
     "text": [
      "The first white-space character is located in position: 0\n"
     ]
    }
   ],
   "source": [
    "import re\n",
    "\n",
    "txt = \"The rain in Spain\"\n",
    "x = re.search(\"\\s\",txt)\n",
    "\n",
    "print(\"The first white-space character is located in position:\", x.start())\n",
    "#第一個空白的位置"
   ]
  },
  {
   "cell_type": "code",
   "execution_count": 33,
   "id": "61cca950",
   "metadata": {},
   "outputs": [
    {
     "name": "stdout",
     "output_type": "stream",
     "text": [
      "No match!!\n",
      "search --> searchObj.group() : dogs\n"
     ]
    }
   ],
   "source": [
    "import re\n",
    "\n",
    "line = \"Cats are smarter than dogs\";\n",
    "\n",
    "matchObj = re.match(r'dogs', line)\n",
    "if matchObj:\n",
    "    print(\"match --> matchObk.group() : {}\".format(matchObj.group()))\n",
    "else:\n",
    "    print(\"No match!!\")\n",
    "    \n",
    "searchObj = re.search(r'dogs', line)\n",
    "if searchObj:\n",
    "    print(\"search --> searchObj.group() : {}\".format(searchObj.group()))\n",
    "else:\n",
    "    print(\"Nothing found!!\")"
   ]
  },
  {
   "cell_type": "code",
   "execution_count": 32,
   "id": "6711264c",
   "metadata": {},
   "outputs": [
    {
     "name": "stdout",
     "output_type": "stream",
     "text": [
      "match --> matchObk.group() : Cats \n",
      "search --> searchObj.group() : dogs\n"
     ]
    }
   ],
   "source": [
    "import re\n",
    "\n",
    "line = \"Cats are smarter than dogs\";\n",
    "\n",
    "matchObj = re.match(r'Cats ', line)\n",
    "if matchObj:\n",
    "    print(\"match --> matchObk.group() : {}\".format(matchObj.group()))\n",
    "else:\n",
    "    print(\"No match!!\")\n",
    "    \n",
    "searchObj = re.search(r'dogs', line)\n",
    "if searchObj:\n",
    "    print(\"search --> searchObj.group() : {}\".format(searchObj.group()))\n",
    "else:\n",
    "    print(\"Nothing found!!\")"
   ]
  },
  {
   "cell_type": "code",
   "execution_count": 34,
   "id": "ffd1c61c",
   "metadata": {},
   "outputs": [
    {
     "name": "stdout",
     "output_type": "stream",
     "text": [
      "['abc', 'abc', 'abc']\n"
     ]
    }
   ],
   "source": [
    "import re\n",
    "\n",
    "pattern = 'abc'\n",
    "string = '123321 abc abc abc'\n",
    "match = re.findall(pattern,string)\n",
    "print(match)"
   ]
  },
  {
   "cell_type": "code",
   "execution_count": 37,
   "id": "384a7223",
   "metadata": {},
   "outputs": [
    {
     "name": "stdout",
     "output_type": "stream",
     "text": [
      "['ai', 'ai']\n"
     ]
    }
   ],
   "source": [
    "import re\n",
    "\n",
    "#Return a list containing every occurrence of \"ai\":\n",
    "\n",
    "txt = \"The rain in Spain\"\n",
    "match = re.findall(\"ai\",txt)\n",
    "print(match)"
   ]
  },
  {
   "cell_type": "code",
   "execution_count": 47,
   "id": "bfd97e84",
   "metadata": {},
   "outputs": [
    {
     "name": "stdout",
     "output_type": "stream",
     "text": [
      "['aabc', 'ac', 'aabbc']\n"
     ]
    }
   ],
   "source": [
    "pattern = \"a+b*c\"\n",
    "string = 'aabc, ac, aabbccc abb, dd'\n",
    "match = re.findall(pattern, string)\n",
    "print(match)"
   ]
  },
  {
   "cell_type": "code",
   "execution_count": 48,
   "id": "c96f6f83",
   "metadata": {},
   "outputs": [
    {
     "name": "stdout",
     "output_type": "stream",
     "text": [
      "['abbbbc', 'bc', 'bc']\n"
     ]
    }
   ],
   "source": [
    "pattern = \"a*b+c\"\n",
    "string = \"abbbbc, bc, bcccc, c , acc\"\n",
    "match = re.findall(pattern, string)\n",
    "print(match)"
   ]
  },
  {
   "cell_type": "code",
   "execution_count": 57,
   "id": "57bee88e",
   "metadata": {},
   "outputs": [
    {
     "name": "stdout",
     "output_type": "stream",
     "text": [
      "['77', '110', '5']\n"
     ]
    }
   ],
   "source": [
    "import re\n",
    "pattern = \"[0-9]+\"\n",
    "pattern = \"[0123456789]+\"\n",
    "pattern = \"\\d+\"\n",
    "\n",
    "string = 'there are 77 apples, 110 bananas, and 5 pineapples'\n",
    "match = re.findall(pattern, string)\n",
    "print(match)"
   ]
  },
  {
   "cell_type": "code",
   "execution_count": 63,
   "id": "4de203eb",
   "metadata": {},
   "outputs": [
    {
     "name": "stdout",
     "output_type": "stream",
     "text": [
      "['123', '111123', '123333', '1222223']\n"
     ]
    }
   ],
   "source": [
    "pattern =  \"[1-3]+\"\n",
    "string = 'abc123, aaabbcc111123, aaa123333bbccc, 1222223'\n",
    "match = re.findall(pattern, string)\n",
    "print(match)"
   ]
  },
  {
   "cell_type": "code",
   "execution_count": 68,
   "id": "35218ba5",
   "metadata": {},
   "outputs": [
    {
     "name": "stdout",
     "output_type": "stream",
     "text": [
      "['dmit', 'omit', 'rmit']\n"
     ]
    }
   ],
   "source": [
    "pattern = \"[dor]mit\" #mit前面有 d or o or r 的\n",
    "string = \"admit, commit, emit, omit, permit\"\n",
    "match = re.findall(pattern, string)\n",
    "print(match)"
   ]
  },
  {
   "cell_type": "code",
   "execution_count": 74,
   "id": "c9d44256",
   "metadata": {},
   "outputs": [
    {
     "name": "stdout",
     "output_type": "stream",
     "text": [
      "['isaac', 'isaaaaac', 'isaaac']\n"
     ]
    }
   ],
   "source": [
    "pattern = \"isa{2,5}c\" #2~5個a的\n",
    "string = 'These are my friends kevin, andym isaac, isac, isaaaac, isaaac, and maggie'\n",
    "match = re.findall(pattern, string)\n",
    "print(match)"
   ]
  },
  {
   "cell_type": "code",
   "execution_count": 77,
   "id": "a1746b66",
   "metadata": {},
   "outputs": [
    {
     "name": "stdout",
     "output_type": "stream",
     "text": [
      "['ABi', 'BBc', 'CNn']\n"
     ]
    }
   ],
   "source": [
    "pattern = \"[A-Z]+[a-z]\"\n",
    "string = \"ABi, BBc, CNn, ai, be, cd\"\n",
    "match = re.findall(pattern, string)\n",
    "print(match)\n",
    "#要有大小寫都要有"
   ]
  },
  {
   "cell_type": "code",
   "execution_count": 81,
   "id": "3ba9960f",
   "metadata": {},
   "outputs": [
    {
     "name": "stdout",
     "output_type": "stream",
     "text": [
      "['.ya', '.co', '.tw', '.nt', '.ed', '.tw', '.te', '.go', '.tw']\n"
     ]
    }
   ],
   "source": [
    "pattern = \"\\..{2}\"  #.後面兩個字\n",
    "string = \"www.yahoo.com.tw, www.ntu.edu.tw, www.test.gov.tw\"\n",
    "match = re.findall(pattern, string)\n",
    "print(match)"
   ]
  },
  {
   "cell_type": "code",
   "execution_count": 90,
   "id": "317d677d",
   "metadata": {},
   "outputs": [
    {
     "name": "stdout",
     "output_type": "stream",
     "text": [
      "['I have a dream ', \" I don't have to work\"]\n"
     ]
    }
   ],
   "source": [
    "pattern = \"I have a dream | I don't have to work\"\n",
    "string = \"I have a dream that I don\\'t have to work'\"\n",
    "match = re.findall(pattern, string)\n",
    "print(match)"
   ]
  },
  {
   "cell_type": "code",
   "execution_count": 101,
   "id": "e9f50073",
   "metadata": {},
   "outputs": [
    {
     "name": "stdout",
     "output_type": "stream",
     "text": [
      "[('isaac60103@gmail.com', 'isaac60103'), ('isaac60103@hotmail.com', 'isaac60103'), ('kevin@yahoo.com', 'kevin')]\n"
     ]
    }
   ],
   "source": [
    "pattern = \"(([A-Za-z0-9._]+)@[A-Za-z.]+)\"\n",
    "string = 'isaac60103@gmail.com, isaac60103@hotmail.com, kevin@yahoo.com'\n",
    "match = re.findall(pattern, string)\n",
    "print(match)\n",
    "\n",
    "#取出帳號"
   ]
  },
  {
   "cell_type": "code",
   "execution_count": null,
   "id": "a298643d",
   "metadata": {},
   "outputs": [],
   "source": []
  }
 ],
 "metadata": {
  "kernelspec": {
   "display_name": "Python 3 (ipykernel)",
   "language": "python",
   "name": "python3"
  },
  "language_info": {
   "codemirror_mode": {
    "name": "ipython",
    "version": 3
   },
   "file_extension": ".py",
   "mimetype": "text/x-python",
   "name": "python",
   "nbconvert_exporter": "python",
   "pygments_lexer": "ipython3",
   "version": "3.8.12"
  }
 },
 "nbformat": 4,
 "nbformat_minor": 5
}
