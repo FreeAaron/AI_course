{
 "cells": [
  {
   "cell_type": "markdown",
   "id": "7324d869",
   "metadata": {},
   "source": [
    "# Integer, float, complex"
   ]
  },
  {
   "cell_type": "code",
   "execution_count": 1,
   "id": "10dac1b3",
   "metadata": {},
   "outputs": [
    {
     "name": "stdout",
     "output_type": "stream",
     "text": [
      "<class 'int'>\n",
      "<class 'float'>\n",
      "<class 'float'>\n",
      "<class 'complex'>\n",
      "<class 'float'>\n",
      "<class 'int'>\n",
      "5\n",
      "3.1\n",
      "3.0\n",
      "(1+2j)\n",
      "3123.2\n",
      "175\n"
     ]
    }
   ],
   "source": [
    "a = 5\n",
    "b = 3.1\n",
    "c = 3.0\n",
    "d = 1+2j\n",
    "f = 3.1232e3\n",
    "print(type(a))\n",
    "print(type(b))\n",
    "print(type(c))\n",
    "print(type(d))\n",
    "print(type(f))\n",
    "h = 0b10101111\n",
    "print(type(h))\n",
    "print(a)\n",
    "print(b)\n",
    "print(c)\n",
    "print(d)\n",
    "print(f)\n",
    "print(h)"
   ]
  },
  {
   "cell_type": "markdown",
   "id": "3156d518",
   "metadata": {},
   "source": [
    "# Boolean"
   ]
  },
  {
   "cell_type": "code",
   "execution_count": 3,
   "id": "a8a2d96c",
   "metadata": {},
   "outputs": [
    {
     "name": "stdout",
     "output_type": "stream",
     "text": [
      "True\n",
      "True\n",
      "False\n"
     ]
    }
   ],
   "source": [
    "print(5 > 3)\n",
    "print(5 != 3)\n",
    "print(5 < 3)"
   ]
  },
  {
   "cell_type": "markdown",
   "id": "066daece",
   "metadata": {},
   "source": [
    "# String"
   ]
  },
  {
   "cell_type": "code",
   "execution_count": 5,
   "id": "37f857d5",
   "metadata": {},
   "outputs": [
    {
     "name": "stdout",
     "output_type": "stream",
     "text": [
      "h\n",
      "e\n",
      "l\n",
      "l\n",
      "o\n",
      "=======\n",
      "o\n",
      "l\n",
      "l\n",
      "e\n",
      "h\n"
     ]
    }
   ],
   "source": [
    "## this is a string\n",
    "a = 'hello'\n",
    "print(a[0])\n",
    "print(a[1])\n",
    "print(a[2])\n",
    "print(a[3])\n",
    "print(a[4])\n",
    "print('=======')\n",
    "print(a[-1])\n",
    "print(a[-2])\n",
    "print(a[-3])\n",
    "print(a[-4])\n",
    "print(a[-5])"
   ]
  },
  {
   "cell_type": "code",
   "execution_count": 6,
   "id": "dace4711",
   "metadata": {},
   "outputs": [
    {
     "name": "stdout",
     "output_type": "stream",
     "text": [
      "utif\n",
      "bea\n",
      "utiful\n",
      "ui\n",
      "beautiful\n",
      "beautiful\n"
     ]
    }
   ],
   "source": [
    "#slicing 切割\n",
    "a = 'beautiful'\n",
    "print(a[3:7]) #後面那個自己不包含\n",
    "print(a[:3])  #從頭開始\n",
    "print(a[3:])  #到最後一個\n",
    "print(a[3:7:2])  #一次跳兩個\n",
    "print(a[:])  #全部\n",
    "print(a)"
   ]
  },
  {
   "cell_type": "code",
   "execution_count": 7,
   "id": "bb9135de",
   "metadata": {},
   "outputs": [
    {
     "name": "stdout",
     "output_type": "stream",
     "text": [
      "hellohello\n"
     ]
    }
   ],
   "source": [
    "a = 'hello'\n",
    "print( a * 2)"
   ]
  },
  {
   "cell_type": "code",
   "execution_count": 8,
   "id": "5b856d40",
   "metadata": {},
   "outputs": [
    {
     "name": "stdout",
     "output_type": "stream",
     "text": [
      "hello issac\n"
     ]
    }
   ],
   "source": [
    "b = 'issac'\n",
    "print(a+' '+b)"
   ]
  },
  {
   "cell_type": "code",
   "execution_count": 9,
   "id": "c7e92d19",
   "metadata": {},
   "outputs": [
    {
     "name": "stdout",
     "output_type": "stream",
     "text": [
      "5\n"
     ]
    }
   ],
   "source": [
    "print(len(a))"
   ]
  },
  {
   "cell_type": "code",
   "execution_count": 20,
   "id": "245c527c",
   "metadata": {},
   "outputs": [
    {
     "name": "stdout",
     "output_type": "stream",
     "text": [
      "hello, i am aaron !\n",
      "HELLO, I AM AARON !\n",
      "Hello,@I@am@Aaron@!\n",
      "['Hello,', 'I', 'am', 'Aaron', '!']\n"
     ]
    }
   ],
   "source": [
    "empty_string = ''\n",
    "my_string = 'Hello, I am Aaron !'\n",
    "print(my_string.lower())\n",
    "print(my_string.upper())\n",
    "print(my_string.replace(' ','@'))\n",
    "print(my_string.split(' '))"
   ]
  },
  {
   "cell_type": "code",
   "execution_count": 23,
   "id": "f5318903",
   "metadata": {},
   "outputs": [
    {
     "name": "stdout",
     "output_type": "stream",
     "text": [
      "Hello, I am Aaron! \n",
      "\n",
      "Hello, I am Aaron!\n"
     ]
    }
   ],
   "source": [
    "my_string = 'Hello, I am Aaron! \\n'\n",
    "print(my_string)\n",
    "print(my_string.strip())"
   ]
  },
  {
   "cell_type": "markdown",
   "id": "3411e46f",
   "metadata": {},
   "source": [
    "# List"
   ]
  },
  {
   "cell_type": "code",
   "execution_count": 27,
   "id": "b2566da4",
   "metadata": {},
   "outputs": [
    {
     "name": "stdout",
     "output_type": "stream",
     "text": [
      "apple\n",
      "10.4\n",
      "(1-3j)\n"
     ]
    }
   ],
   "source": [
    "## this is a list\n",
    "a = ['apple', 10.4, 1-3j]\n",
    "b = [1, 3, -2, 8, 9, -10]\n",
    "print(a[0])\n",
    "print(a[1])\n",
    "print(a[-1])"
   ]
  },
  {
   "cell_type": "code",
   "execution_count": 40,
   "id": "ce075c17",
   "metadata": {},
   "outputs": [
    {
     "name": "stdout",
     "output_type": "stream",
     "text": [
      "['apple', 10.4, (1-3j), 1, 3, -2, 8, 9, -10]\n"
     ]
    }
   ],
   "source": [
    "empty_list = [] # empty_list = list()\n",
    "a = ['apple', 10.4, 1-3j]\n",
    "b = [1, 3, -2, 8, 9, -10]\n",
    "print(a + b)"
   ]
  },
  {
   "cell_type": "code",
   "execution_count": 56,
   "id": "f46c3b0a",
   "metadata": {},
   "outputs": [
    {
     "name": "stdout",
     "output_type": "stream",
     "text": [
      "[1, 3, -2, 8, 9, -10, 20]\n",
      "[1, -2, 8, 9, -10, 20]\n",
      "[1, -2, 8, 9, -10]\n",
      "[1, 100, -2, 8, 9, -10]\n",
      "[-10, 9, 8, -2, 100, 1]\n",
      "[-10, -2, 1, 8, 9, 100]\n",
      "['apple', 10.4, (1-3j), [-10, -2, 1, 8, 9, 100]]\n",
      "['apple', 10.4, (1-3j), [-10, -2, 1, 8, 9, 100], -10, -2, 1, 8, 9, 100]\n",
      "['apple', 10.4, (1-3j), [-10, -2, 1, 8, 9, 100], -10, -2, 1, 8, 9]\n"
     ]
    },
    {
     "data": {
      "text/plain": [
       "['apple', 10.4, (1-3j), [-10, -2, 1, 8, 9, 100], -10, -2, 1, 8]"
      ]
     },
     "execution_count": 56,
     "metadata": {},
     "output_type": "execute_result"
    }
   ],
   "source": [
    "a = ['apple', 10.4, 1-3j]\n",
    "b = [1, 3, -2, 8, 9, -10]\n",
    "b.append(20)\n",
    "print(b)\n",
    "b.remove(3)\n",
    "print(b)\n",
    "b.pop()\n",
    "print(b)\n",
    "b.insert(1, 100)\n",
    "print(b)\n",
    "b.reverse()\n",
    "print(b)\n",
    "b.sort()  #由小到大排\n",
    "print(b)\n",
    "\n",
    "a.append(b)\n",
    "print(a)\n",
    "a.extend(b)\n",
    "print(a)\n",
    "a.pop()\n",
    "print(a)\n",
    "a.pop()\n",
    "a"
   ]
  },
  {
   "cell_type": "markdown",
   "id": "479ea1f7",
   "metadata": {},
   "source": [
    "# Tuple\n",
    "(不允許修改)"
   ]
  },
  {
   "cell_type": "code",
   "execution_count": 57,
   "id": "49e903d4",
   "metadata": {},
   "outputs": [
    {
     "name": "stdout",
     "output_type": "stream",
     "text": [
      "1\n",
      "3\n",
      "3\n"
     ]
    }
   ],
   "source": [
    "# this is a tuple\n",
    "a = ('1', '2', '3')\n",
    "print(a[0])\n",
    "print(a[-1])\n",
    "print(len(a))"
   ]
  },
  {
   "cell_type": "code",
   "execution_count": 58,
   "id": "70483a84",
   "metadata": {},
   "outputs": [
    {
     "name": "stdout",
     "output_type": "stream",
     "text": [
      "('a', 'b', 'c', 1, 2, 3)\n"
     ]
    }
   ],
   "source": [
    "tuple1 = (\"a\", \"b\", \"c\")\n",
    "tuple2 = (1, 2, 3)\n",
    "\n",
    "tuple3= tuple1 + tuple2\n",
    "print(tuple3)"
   ]
  },
  {
   "cell_type": "code",
   "execution_count": 59,
   "id": "3f4e9f6d",
   "metadata": {},
   "outputs": [
    {
     "name": "stdout",
     "output_type": "stream",
     "text": [
      "[1, 100, 3]\n"
     ]
    },
    {
     "ename": "TypeError",
     "evalue": "'tuple' object does not support item assignment",
     "output_type": "error",
     "traceback": [
      "\u001b[1;31m---------------------------------------------------------------------------\u001b[0m",
      "\u001b[1;31mTypeError\u001b[0m                                 Traceback (most recent call last)",
      "\u001b[1;32m~\\AppData\\Local\\Temp/ipykernel_21668/2627440675.py\u001b[0m in \u001b[0;36m<module>\u001b[1;34m\u001b[0m\n\u001b[0;32m      5\u001b[0m \u001b[0mprint\u001b[0m\u001b[1;33m(\u001b[0m\u001b[0mmy_list\u001b[0m\u001b[1;33m)\u001b[0m\u001b[1;33m\u001b[0m\u001b[1;33m\u001b[0m\u001b[0m\n\u001b[0;32m      6\u001b[0m \u001b[1;33m\u001b[0m\u001b[0m\n\u001b[1;32m----> 7\u001b[1;33m \u001b[0mmy_tuple\u001b[0m\u001b[1;33m[\u001b[0m\u001b[1;36m1\u001b[0m\u001b[1;33m]\u001b[0m \u001b[1;33m=\u001b[0m \u001b[1;36m100\u001b[0m\u001b[1;33m\u001b[0m\u001b[1;33m\u001b[0m\u001b[0m\n\u001b[0m\u001b[0;32m      8\u001b[0m \u001b[0mprint\u001b[0m\u001b[1;33m(\u001b[0m\u001b[0mmy_tuple\u001b[0m\u001b[1;33m)\u001b[0m\u001b[1;33m\u001b[0m\u001b[1;33m\u001b[0m\u001b[0m\n",
      "\u001b[1;31mTypeError\u001b[0m: 'tuple' object does not support item assignment"
     ]
    }
   ],
   "source": [
    "my_list = [1,2,3]\n",
    "my_tuple = (1,2,3)\n",
    "\n",
    "my_list[1] = 100\n",
    "print(my_list)\n",
    "\n",
    "my_tuple[1] = 100\n",
    "print(my_tuple)  #不能改"
   ]
  },
  {
   "cell_type": "markdown",
   "id": "bf918309",
   "metadata": {},
   "source": [
    "# Set\n",
    "無序，不允許重複\n",
    "{}"
   ]
  },
  {
   "cell_type": "code",
   "execution_count": 60,
   "id": "5eacde2b",
   "metadata": {},
   "outputs": [
    {
     "name": "stdout",
     "output_type": "stream",
     "text": [
      "{'banana', 'cherry', 'apple', 'banana*2'}\n"
     ]
    }
   ],
   "source": [
    "fruits = {\"apple\", \"banana*2\", \"banana\",\"banana\",\"banana\",\"banana\",\"banana\",\"banana\", \"cherry\"}\n",
    "print(fruits)"
   ]
  },
  {
   "cell_type": "code",
   "execution_count": 61,
   "id": "530e821b",
   "metadata": {},
   "outputs": [
    {
     "name": "stdout",
     "output_type": "stream",
     "text": [
      "{'banana*2', 'banana', 'cherry', 'orange', 'apple'}\n"
     ]
    }
   ],
   "source": [
    "fruits.add(\"orange\")\n",
    "print(fruits)"
   ]
  },
  {
   "cell_type": "code",
   "execution_count": 62,
   "id": "63b106c4",
   "metadata": {},
   "outputs": [
    {
     "name": "stdout",
     "output_type": "stream",
     "text": [
      "{'banana', 'cherry', 'orange', 'apple', 'grapes', 'mango'}\n"
     ]
    }
   ],
   "source": [
    "fruits = {\"apple\", \"banana\", \"cherry\"}\n",
    "\n",
    "fruits.update(['orange', 'mango', 'grapes'])\n",
    "\n",
    "print(fruits)"
   ]
  },
  {
   "cell_type": "code",
   "execution_count": 63,
   "id": "3fbcb6b6",
   "metadata": {},
   "outputs": [
    {
     "name": "stdout",
     "output_type": "stream",
     "text": [
      "banana\n",
      "{'cherry', 'apple'}\n"
     ]
    }
   ],
   "source": [
    "fruits = {\"apple\", \"banana\", \"cherry\"}\n",
    "\n",
    "x = fruits.pop()\n",
    "\n",
    "#無序的，pop誰不一定\n",
    "\n",
    "print(x)\n",
    "\n",
    "print(fruits)"
   ]
  },
  {
   "cell_type": "code",
   "execution_count": 64,
   "id": "8a41a27f",
   "metadata": {},
   "outputs": [
    {
     "name": "stdout",
     "output_type": "stream",
     "text": [
      "{1, 3}\n",
      "{1, 2, 3, 4, 5, 7, 9}\n"
     ]
    }
   ],
   "source": [
    "a = {1, 2, 3, 4}\n",
    "b = {1, 3, 5, 7, 9}\n",
    "print(a & b)\n",
    "print(a | b)"
   ]
  },
  {
   "cell_type": "code",
   "execution_count": 65,
   "id": "30241054",
   "metadata": {},
   "outputs": [
    {
     "name": "stdout",
     "output_type": "stream",
     "text": [
      "{1, 2, 3, 4, 5, 6}\n",
      "[1, 2, 3, 4, 5, 6]\n"
     ]
    }
   ],
   "source": [
    "my_list = [1,1,2,3,4,5,6,6,6]\n",
    "print(set(my_list))\n",
    "unique_list = list(set(my_list))\n",
    "print(unique_list)"
   ]
  },
  {
   "cell_type": "markdown",
   "id": "db12a0b8",
   "metadata": {},
   "source": [
    "# Dictionary\n",
    "key不能重複"
   ]
  },
  {
   "cell_type": "code",
   "execution_count": 67,
   "id": "1c59c26f",
   "metadata": {},
   "outputs": [
    {
     "name": "stdout",
     "output_type": "stream",
     "text": [
      "{'Isaac': 90}\n"
     ]
    }
   ],
   "source": [
    "a = {'Isaac':100, 'Isaac':90}\n",
    "print(a)"
   ]
  },
  {
   "cell_type": "code",
   "execution_count": 70,
   "id": "0b8ed3a6",
   "metadata": {},
   "outputs": [
    {
     "name": "stdout",
     "output_type": "stream",
     "text": [
      "{'Isaac': 100, 'Judy': 60, 'Andy': 80}\n",
      "3\n",
      "100\n",
      "60\n"
     ]
    }
   ],
   "source": [
    "a = {'Isaac':100, 'Judy':60, 'Andy':80}\n",
    "print(a)\n",
    "print(len(a))\n",
    "print(a['Isaac'])\n",
    "print(a['Judy'])"
   ]
  },
  {
   "cell_type": "code",
   "execution_count": 71,
   "id": "9c939213",
   "metadata": {},
   "outputs": [
    {
     "name": "stdout",
     "output_type": "stream",
     "text": [
      "{'Isaac': 100, 'Judy': 60, 'Andy': 80, 'amy': 10}\n"
     ]
    }
   ],
   "source": [
    "a['amy'] = 10\n",
    "print(a)"
   ]
  },
  {
   "cell_type": "code",
   "execution_count": 72,
   "id": "a61ff71d",
   "metadata": {},
   "outputs": [
    {
     "name": "stdout",
     "output_type": "stream",
     "text": [
      "{'Isaac': 100, 'Judy': 60, 'Andy': 80, 'amy': 20}\n"
     ]
    }
   ],
   "source": [
    "a['amy'] = 20\n",
    "print(a)"
   ]
  },
  {
   "cell_type": "code",
   "execution_count": 73,
   "id": "a9a6a8c1",
   "metadata": {},
   "outputs": [
    {
     "name": "stdout",
     "output_type": "stream",
     "text": [
      "{'Isaac': 100, 'Judy': 60, 'Andy': 80, 'amy': 30}\n"
     ]
    }
   ],
   "source": [
    "a['amy'] = a['amy'] + 10\n",
    "print(a)"
   ]
  },
  {
   "cell_type": "code",
   "execution_count": 74,
   "id": "52386b1e",
   "metadata": {},
   "outputs": [
    {
     "name": "stdout",
     "output_type": "stream",
     "text": [
      "dict_values([100, 60, 80, 30])\n"
     ]
    }
   ],
   "source": [
    "print(a.values())"
   ]
  },
  {
   "cell_type": "code",
   "execution_count": 75,
   "id": "43ce404b",
   "metadata": {},
   "outputs": [
    {
     "name": "stdout",
     "output_type": "stream",
     "text": [
      "dict_keys(['Isaac', 'Judy', 'Andy', 'amy'])\n"
     ]
    }
   ],
   "source": [
    "print(a.keys())"
   ]
  },
  {
   "cell_type": "code",
   "execution_count": 76,
   "id": "58ee4234",
   "metadata": {},
   "outputs": [
    {
     "name": "stdout",
     "output_type": "stream",
     "text": [
      "{'Judy': 60, 'Andy': 80, 'amy': 30}\n"
     ]
    }
   ],
   "source": [
    "a.pop(\"Isaac\")\n",
    "print(a)"
   ]
  },
  {
   "cell_type": "code",
   "execution_count": 77,
   "id": "d04f7110",
   "metadata": {},
   "outputs": [
    {
     "ename": "KeyError",
     "evalue": "'Aaron'",
     "output_type": "error",
     "traceback": [
      "\u001b[1;31m---------------------------------------------------------------------------\u001b[0m",
      "\u001b[1;31mKeyError\u001b[0m                                  Traceback (most recent call last)",
      "\u001b[1;32m~\\AppData\\Local\\Temp/ipykernel_21668/2248538079.py\u001b[0m in \u001b[0;36m<module>\u001b[1;34m\u001b[0m\n\u001b[1;32m----> 1\u001b[1;33m \u001b[0ma\u001b[0m\u001b[1;33m.\u001b[0m\u001b[0mpop\u001b[0m\u001b[1;33m(\u001b[0m\u001b[1;34m\"Aaron\"\u001b[0m\u001b[1;33m)\u001b[0m\u001b[1;33m\u001b[0m\u001b[1;33m\u001b[0m\u001b[0m\n\u001b[0m\u001b[0;32m      2\u001b[0m \u001b[0mprint\u001b[0m\u001b[1;33m(\u001b[0m\u001b[0ma\u001b[0m\u001b[1;33m)\u001b[0m\u001b[1;33m\u001b[0m\u001b[1;33m\u001b[0m\u001b[0m\n",
      "\u001b[1;31mKeyError\u001b[0m: 'Aaron'"
     ]
    }
   ],
   "source": [
    "a.pop(\"Aaron\")\n",
    "print(a)"
   ]
  },
  {
   "cell_type": "markdown",
   "id": "17e78c52",
   "metadata": {},
   "source": [
    "# Casting"
   ]
  },
  {
   "cell_type": "code",
   "execution_count": 81,
   "id": "a6fb74e4",
   "metadata": {},
   "outputs": [
    {
     "name": "stdout",
     "output_type": "stream",
     "text": [
      "<class 'str'>\n",
      "<class 'float'>\n",
      "<class 'list'>\n",
      "1000\n",
      "1000.0\n",
      "['1', '0', '0', '0']\n"
     ]
    }
   ],
   "source": [
    "my_string = '1000'\n",
    "print(type(my_string))\n",
    "my_float = float(my_string)\n",
    "print(type(my_float))\n",
    "my_list = list(my_string)\n",
    "print(type(my_list))\n",
    "\n",
    "print(my_string)\n",
    "print(my_float)\n",
    "print(my_list)"
   ]
  },
  {
   "cell_type": "code",
   "execution_count": 82,
   "id": "347c0c97",
   "metadata": {},
   "outputs": [
    {
     "name": "stdout",
     "output_type": "stream",
     "text": [
      "<class 'tuple'>\n",
      "(1, 2, 3, 5)\n"
     ]
    }
   ],
   "source": [
    "my_list = [1, 2, 3, 5]\n",
    "my_tuple = tuple(my_list)\n",
    "print(type(my_tuple))\n",
    "print(my_tuple)"
   ]
  },
  {
   "cell_type": "markdown",
   "id": "e6e0a551",
   "metadata": {},
   "source": [
    "# 練習一"
   ]
  },
  {
   "cell_type": "markdown",
   "id": "e7d956cc",
   "metadata": {},
   "source": [
    "# Lucky number\n",
    "# input a integer number, detect if the number is considered lucky. If the number is lucky, print \"lucky number\". If not, print \"regular number\"\n",
    "# Definition of lucky number: the sum of the first three digits equals the sum of the last three digits in a number."
   ]
  },
  {
   "cell_type": "code",
   "execution_count": 90,
   "id": "4b311bc1",
   "metadata": {},
   "outputs": [
    {
     "name": "stdout",
     "output_type": "stream",
     "text": [
      "123456456\n",
      "6\n",
      "15\n",
      "regular number!\n"
     ]
    }
   ],
   "source": [
    "b = input()\n",
    "\n",
    "s1 = int(b[0]) + int(b[1]) + int(b[2])\n",
    "print(s1)\n",
    "s2 = int(b[-1]) + int(b[-2]) + int(b[-3])\n",
    "print(s2)\n",
    "## write your code here\n",
    "\n",
    "\n",
    "if s1 == s2:\n",
    "    print('lucky number!')\n",
    "else:\n",
    "    print('regular number!')"
   ]
  },
  {
   "cell_type": "code",
   "execution_count": 94,
   "id": "dfc04c3a",
   "metadata": {},
   "outputs": [
    {
     "name": "stdout",
     "output_type": "stream",
     "text": [
      "123321\n",
      "6\n",
      "6\n",
      "lucky number!\n"
     ]
    }
   ],
   "source": [
    "b = int(input())\n",
    "#如果確定是六位數的話才是這樣做\n",
    "s1 = b%10 + b%100 //10 + b%1000 //100\n",
    "print(s1)\n",
    "s2 = (b%10000)//1000 + (b%100000)//10000 + b//100000\n",
    "print(s2)\n",
    "## write your code here\n",
    "\n",
    "if s1 == s2:\n",
    "    print('lucky number!')\n",
    "else:\n",
    "    print('regular number!')"
   ]
  },
  {
   "cell_type": "markdown",
   "id": "8eed613a",
   "metadata": {},
   "source": [
    "# 練習2"
   ]
  },
  {
   "cell_type": "markdown",
   "id": "6ebb1d4d",
   "metadata": {},
   "source": [
    "# Heron's Formula - area of a triangle\n",
    "## input 3 integer to represent triangle side length. Calculate the area of the triangle."
   ]
  },
  {
   "cell_type": "code",
   "execution_count": 96,
   "id": "b4710459",
   "metadata": {},
   "outputs": [
    {
     "name": "stdout",
     "output_type": "stream",
     "text": [
      "3\n",
      "4\n",
      "5\n",
      "6.0\n"
     ]
    }
   ],
   "source": [
    "a = int(input())   #用int也可以\n",
    "b = float(input())\n",
    "c = float(input())\n",
    "s = (a + b + c) / 2\n",
    "A = (s * (s-a) * (s-b) * (s-c) ) ** 0.5\n",
    "print(A)"
   ]
  },
  {
   "cell_type": "markdown",
   "id": "5a6fb5ed",
   "metadata": {},
   "source": [
    "# Use list slicing to get specify character of a given word. my_list = ['A','p','p','l','e']"
   ]
  },
  {
   "cell_type": "code",
   "execution_count": 97,
   "id": "6b943022",
   "metadata": {},
   "outputs": [],
   "source": [
    "my_list = ['A','p','p','l','e']"
   ]
  },
  {
   "cell_type": "markdown",
   "id": "346e2601",
   "metadata": {},
   "source": [
    "# get elements 3rd to 5th"
   ]
  },
  {
   "cell_type": "code",
   "execution_count": 98,
   "id": "b6d169bf",
   "metadata": {},
   "outputs": [
    {
     "name": "stdout",
     "output_type": "stream",
     "text": [
      "['p', 'l', 'e']\n"
     ]
    }
   ],
   "source": [
    "# elements 3rd to 5th\n",
    "## write your code here\n",
    "print(my_list[2:5])"
   ]
  },
  {
   "cell_type": "markdown",
   "id": "74f4aed5",
   "metadata": {},
   "source": [
    "# elements beginning to 4th (including 4th)"
   ]
  },
  {
   "cell_type": "code",
   "execution_count": 99,
   "id": "226fca80",
   "metadata": {},
   "outputs": [
    {
     "name": "stdout",
     "output_type": "stream",
     "text": [
      "['A', 'p', 'p', 'l']\n"
     ]
    }
   ],
   "source": [
    "# elements beginning to 4th\n",
    "## write your code here\n",
    "print(my_list[:4])"
   ]
  },
  {
   "cell_type": "markdown",
   "id": "96ac1b35",
   "metadata": {},
   "source": [
    "# elements 2th to end (including 2th)"
   ]
  },
  {
   "cell_type": "code",
   "execution_count": 100,
   "id": "3782da5f",
   "metadata": {},
   "outputs": [
    {
     "name": "stdout",
     "output_type": "stream",
     "text": [
      "['p', 'p', 'l', 'e']\n"
     ]
    }
   ],
   "source": [
    "# elements 2th to end\n",
    "## write your code here\n",
    "print(my_list[1:])"
   ]
  },
  {
   "cell_type": "markdown",
   "id": "16e88c88",
   "metadata": {},
   "source": [
    "# print all elements"
   ]
  },
  {
   "cell_type": "code",
   "execution_count": 105,
   "id": "1b206b80",
   "metadata": {},
   "outputs": [
    {
     "name": "stdout",
     "output_type": "stream",
     "text": [
      "['A', 'p', 'p', 'l', 'e']\n"
     ]
    }
   ],
   "source": [
    "print(my_list[:])"
   ]
  },
  {
   "cell_type": "markdown",
   "id": "c1cebb69",
   "metadata": {},
   "source": [
    "# Use del to Delete elements from a list. my_list = ['p','r','o','b','l','e','m']"
   ]
  },
  {
   "cell_type": "code",
   "execution_count": 121,
   "id": "8fdd3253",
   "metadata": {},
   "outputs": [],
   "source": [
    "my_list = ['p','r','o','b','l','e','m']"
   ]
  },
  {
   "cell_type": "code",
   "execution_count": 130,
   "id": "8ff4ad0c",
   "metadata": {},
   "outputs": [
    {
     "name": "stdout",
     "output_type": "stream",
     "text": [
      "['p', 'r', 'b', 'l', 'e', 'm']\n"
     ]
    }
   ],
   "source": [
    "# delete 3th item\n",
    "## write your code here\n",
    "my_list = ['p','r','o','b','l','e','m']\n",
    "del my_list[2]\n",
    "#my_list.remove('o')\n",
    "print(my_list)"
   ]
  },
  {
   "cell_type": "code",
   "execution_count": 131,
   "id": "e6daf1c0",
   "metadata": {},
   "outputs": [
    {
     "name": "stdout",
     "output_type": "stream",
     "text": [
      "['p', 'l', 'e', 'm']\n"
     ]
    }
   ],
   "source": [
    "# delete multiple items from 2th to 4th(including 4th)\n",
    "## write your code here\n",
    "my_list = ['p','r','o','b','l','e','m']\n",
    "#my_list = my_list[0] + my_list[-1]\n",
    "#print(list(my_list))\n",
    "del my_list[1:4]\n",
    "print(my_list)"
   ]
  },
  {
   "cell_type": "markdown",
   "id": "51bd5a86",
   "metadata": {},
   "source": [
    "# Write a Python program to add a key to a dictionary"
   ]
  },
  {
   "cell_type": "code",
   "execution_count": 135,
   "id": "9d27557f",
   "metadata": {},
   "outputs": [
    {
     "name": "stdout",
     "output_type": "stream",
     "text": [
      "{0: 10, 1: 20}\n",
      "{0: 10, 1: 20, 2: 30}\n"
     ]
    }
   ],
   "source": [
    "d = {0:10, 1:20}\n",
    "print(d)\n",
    "## write your code here\n",
    "#d[2] = 30\n",
    "d.update({2:30})\n",
    "print(d)"
   ]
  },
  {
   "cell_type": "markdown",
   "id": "2417f81a",
   "metadata": {},
   "source": [
    "# 練習三"
   ]
  },
  {
   "cell_type": "markdown",
   "id": "1c590bc2",
   "metadata": {},
   "source": [
    "# Write a Python program to convert a list of characters into a string."
   ]
  },
  {
   "cell_type": "code",
   "execution_count": 199,
   "id": "03f20ee1",
   "metadata": {},
   "outputs": [
    {
     "name": "stdout",
     "output_type": "stream",
     "text": [
      "abcd\n",
      "abcd\n"
     ]
    }
   ],
   "source": [
    "s = ['a', 'b', 'c', 'd']\n",
    "## write your code here\n",
    "print(s[0]+s[1]+s[2]+s[3])\n",
    "str1 = ''.join(s)\n",
    "print(str1)"
   ]
  },
  {
   "cell_type": "markdown",
   "id": "09b160e3",
   "metadata": {},
   "source": [
    "# Write a Python program to calculate the length of a string."
   ]
  },
  {
   "cell_type": "code",
   "execution_count": 138,
   "id": "f5a0c6e8",
   "metadata": {},
   "outputs": [
    {
     "name": "stdout",
     "output_type": "stream",
     "text": [
      "5\n"
     ]
    }
   ],
   "source": [
    "my_string = 'isaac'\n",
    "## write your code here\n",
    "print(len(my_string))"
   ]
  },
  {
   "cell_type": "markdown",
   "id": "3dd77ace",
   "metadata": {},
   "source": [
    "# Write a Python program to get a string made of the first 2 and the last 2 chars from a given a string. If the string length is less than 2, return instead of the empty string.  (assume number of characters of this string is more than two)\n",
    "\n",
    "Sample String : 'w3resource'  \n",
    "Expected Result : 'w3ce'  \n",
    "Sample String : 'w3'  \n",
    "Expected Result : 'w3w3' "
   ]
  },
  {
   "cell_type": "code",
   "execution_count": 200,
   "id": "bb22fde4",
   "metadata": {},
   "outputs": [
    {
     "name": "stdout",
     "output_type": "stream",
     "text": [
      "isaac\n",
      "isac\n"
     ]
    }
   ],
   "source": [
    "my_string = input()\n",
    "\n",
    "## write your code here\n",
    "print(my_string[0:2] + my_string[-2:])"
   ]
  },
  {
   "cell_type": "markdown",
   "id": "b386571c",
   "metadata": {},
   "source": [
    "# Write a Python program to get a string from a given string where all occurrences of its first char have been changed to '$', except the first char itself."
   ]
  },
  {
   "cell_type": "code",
   "execution_count": 203,
   "id": "e5f9b3b2",
   "metadata": {},
   "outputs": [
    {
     "name": "stdout",
     "output_type": "stream",
     "text": [
      "aabbccaaabc\n",
      "a$bbcc$$$bc\n"
     ]
    }
   ],
   "source": [
    "my_string = input()\n",
    "\n",
    "first = my_string[0]\n",
    "my_string = my_string.replace(first,'$')\n",
    "\n",
    "print(first + my_string[1:])"
   ]
  },
  {
   "cell_type": "markdown",
   "id": "dc93879d",
   "metadata": {},
   "source": [
    "# Write a Python function to get a string made of 4 copies of the last two characters of a specified string (length must be at least 2)."
   ]
  },
  {
   "cell_type": "code",
   "execution_count": 204,
   "id": "ba646251",
   "metadata": {},
   "outputs": [
    {
     "name": "stdout",
     "output_type": "stream",
     "text": [
      "aaron\n"
     ]
    },
    {
     "data": {
      "text/plain": [
       "'onononon'"
      ]
     },
     "execution_count": 204,
     "metadata": {},
     "output_type": "execute_result"
    }
   ],
   "source": [
    "my_string = input()\n",
    "\n",
    "## write your code here\n",
    "a = my_string[-2:]\n",
    "a*4\n",
    "\n",
    "#不打print 兩邊就會多''這個符號"
   ]
  },
  {
   "cell_type": "code",
   "execution_count": null,
   "id": "ef56cc22",
   "metadata": {},
   "outputs": [],
   "source": []
  }
 ],
 "metadata": {
  "kernelspec": {
   "display_name": "Python 3 (ipykernel)",
   "language": "python",
   "name": "python3"
  },
  "language_info": {
   "codemirror_mode": {
    "name": "ipython",
    "version": 3
   },
   "file_extension": ".py",
   "mimetype": "text/x-python",
   "name": "python",
   "nbconvert_exporter": "python",
   "pygments_lexer": "ipython3",
   "version": "3.8.12"
  }
 },
 "nbformat": 4,
 "nbformat_minor": 5
}
