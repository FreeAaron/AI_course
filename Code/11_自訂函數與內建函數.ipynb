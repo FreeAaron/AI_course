{
 "cells": [
  {
   "cell_type": "markdown",
   "id": "eb2430ab",
   "metadata": {},
   "source": [
    "# Build-in function"
   ]
  },
  {
   "cell_type": "code",
   "execution_count": 2,
   "id": "52b9610f",
   "metadata": {
    "scrolled": true
   },
   "outputs": [
    {
     "name": "stdout",
     "output_type": "stream",
     "text": [
      "5\n",
      "True\n",
      "65\n",
      "A\n",
      "15\n"
     ]
    }
   ],
   "source": [
    "a = -5\n",
    "b = 'A'\n",
    "c = 65\n",
    "d = '(a+10)*3'\n",
    "print(abs(a))  #絕對值\n",
    "print(bool(a))  #布林>非0都是True\n",
    "print(ord(b))  #返回對應ASKII Code數值\n",
    "print(chr(c))  #ASKII Code數值對應字元\n",
    "print(eval(d))  #字串運算 (少用)"
   ]
  },
  {
   "cell_type": "code",
   "execution_count": 25,
   "id": "6d12dab8",
   "metadata": {
    "scrolled": true
   },
   "outputs": [
    {
     "name": "stdout",
     "output_type": "stream",
     "text": [
      "3\n",
      "9\n",
      "(2, 1)\n"
     ]
    }
   ],
   "source": [
    "print(round(3.4))\n",
    "print(pow(3, 2))\n",
    "print(divmod(5, 2))"
   ]
  },
  {
   "cell_type": "code",
   "execution_count": 28,
   "id": "b5f405ab",
   "metadata": {
    "scrolled": true
   },
   "outputs": [
    {
     "name": "stdout",
     "output_type": "stream",
     "text": [
      "40\n",
      "-50\n",
      "100\n"
     ]
    }
   ],
   "source": [
    "my_list = [100, 20, -30, -50]\n",
    "print(sum(my_list))\n",
    "print(min(my_list))\n",
    "print(max(my_list))"
   ]
  },
  {
   "cell_type": "code",
   "execution_count": 40,
   "id": "fcebf2c1",
   "metadata": {},
   "outputs": [
    {
     "name": "stdout",
     "output_type": "stream",
     "text": [
      "a = 100, <class 'int'>\n",
      "a=  100 , <class 'int'>\n"
     ]
    }
   ],
   "source": [
    "txt='100'\n",
    "a = int(txt)\n",
    "print(f'a = {a}, {type(a)}')\n",
    "print('a= ',a,',', type(a))"
   ]
  },
  {
   "cell_type": "code",
   "execution_count": 41,
   "id": "ae057460",
   "metadata": {},
   "outputs": [
    {
     "name": "stdout",
     "output_type": "stream",
     "text": [
      "a = 100.11, <class 'float'>\n",
      "a=  100.11 , <class 'float'>\n"
     ]
    }
   ],
   "source": [
    "txt='100.11'\n",
    "a = float(txt)\n",
    "print(f'a = {a}, {type(a)}')\n",
    "print('a= ',a,',', type(a))"
   ]
  },
  {
   "cell_type": "code",
   "execution_count": 55,
   "id": "72af2d2f",
   "metadata": {},
   "outputs": [
    {
     "name": "stdout",
     "output_type": "stream",
     "text": [
      "10\n",
      "0b1010\n",
      "0o12\n",
      "0xa\n",
      "a = 10, <class 'str'>\n"
     ]
    }
   ],
   "source": [
    "a = str(10)\n",
    "print(str(a))  \n",
    "print(bin(10))\n",
    "print(oct(10))\n",
    "print(hex(10))\n",
    "print(f'a = {a}, {type(a)}')"
   ]
  },
  {
   "cell_type": "markdown",
   "id": "92f67ce8",
   "metadata": {},
   "source": [
    "# User-Defined Function"
   ]
  },
  {
   "cell_type": "code",
   "execution_count": 5,
   "id": "37f3c54d",
   "metadata": {},
   "outputs": [
    {
     "name": "stdout",
     "output_type": "stream",
     "text": [
      "hello\n",
      "hello\n",
      "hello\n"
     ]
    }
   ],
   "source": [
    "def printHello():\n",
    "    print('hello')\n",
    "    \n",
    "printHello()\n",
    "printHello()\n",
    "printHello()"
   ]
  },
  {
   "cell_type": "code",
   "execution_count": 7,
   "id": "d33babbe",
   "metadata": {},
   "outputs": [
    {
     "name": "stdout",
     "output_type": "stream",
     "text": [
      "hello Aaron\n",
      "hello Dana\n",
      "hello Joe\n",
      "None\n"
     ]
    }
   ],
   "source": [
    "def printHello(text):\n",
    "    print('hello ' + text)\n",
    "    \n",
    "printHello('Aaron')\n",
    "printHello('Dana')\n",
    "print(printHello('Joe'))  #因為沒有return 所以有None"
   ]
  },
  {
   "cell_type": "code",
   "execution_count": 56,
   "id": "28c93ebf",
   "metadata": {},
   "outputs": [
    {
     "name": "stdout",
     "output_type": "stream",
     "text": [
      "hello Aaron\n",
      "hello Dana\n",
      "hello Joe\n",
      "Joe\n"
     ]
    }
   ],
   "source": [
    "def printHello(text):\n",
    "    print('hello ' + text)\n",
    "    return text\n",
    "printHello('Aaron')\n",
    "printHello('Dana')\n",
    "print(printHello('Joe'))"
   ]
  },
  {
   "cell_type": "code",
   "execution_count": 8,
   "id": "e5486ad6",
   "metadata": {},
   "outputs": [
    {
     "name": "stdout",
     "output_type": "stream",
     "text": [
      "Hello Aaron amy isaac "
     ]
    }
   ],
   "source": [
    "def printHello(name_list):\n",
    "    print('Hello ',end=\"\")\n",
    "    for i in name_list:\n",
    "        print(i, end=' ')\n",
    "printHello(['Aaron', 'amy', 'isaac'])"
   ]
  },
  {
   "cell_type": "code",
   "execution_count": 10,
   "id": "995a310f",
   "metadata": {},
   "outputs": [
    {
     "name": "stdout",
     "output_type": "stream",
     "text": [
      "8\n",
      "-2\n"
     ]
    }
   ],
   "source": [
    "def sum_number(a, b):\n",
    "    num_sum = a + b\n",
    "    return num_sum\n",
    "\n",
    "print(sum_number(3,5))\n",
    "print(sum_number(3,-5))"
   ]
  },
  {
   "cell_type": "code",
   "execution_count": 11,
   "id": "7273fa01",
   "metadata": {},
   "outputs": [
    {
     "name": "stdout",
     "output_type": "stream",
     "text": [
      "15\n",
      "5\n"
     ]
    }
   ],
   "source": [
    "def sum_number(a, b=10):\n",
    "    num_sum = a + b\n",
    "    return num_sum\n",
    "\n",
    "print(sum_number(5))\n",
    "print(sum_number(-5))"
   ]
  },
  {
   "cell_type": "code",
   "execution_count": 12,
   "id": "4f1e94c4",
   "metadata": {},
   "outputs": [
    {
     "name": "stdout",
     "output_type": "stream",
     "text": [
      "isaac's score is: 80\n",
      "Aaron's score is: 80\n"
     ]
    }
   ],
   "source": [
    "def get_score(student_name, score):\n",
    "    text = student_name + '\\'s score is: ' + str(score)\n",
    "    print(text)\n",
    "    \n",
    "get_score('isaac', 80)\n",
    "get_score(score = 80, student_name = 'Aaron')"
   ]
  },
  {
   "cell_type": "code",
   "execution_count": 14,
   "id": "68cd9671",
   "metadata": {},
   "outputs": [
    {
     "name": "stdout",
     "output_type": "stream",
     "text": [
      "('apple', 'banana', 'orange')\n",
      "apple\n",
      "banana\n",
      "orange\n"
     ]
    }
   ],
   "source": [
    "def show_list_items(*items):\n",
    "    print(items)\n",
    "    for i in items:\n",
    "        print(i)\n",
    "element1 = 'apple'\n",
    "element2 = 'banana'\n",
    "element3 = 'orange'\n",
    "show_list_items(element1, element2, element3)"
   ]
  },
  {
   "cell_type": "code",
   "execution_count": 17,
   "id": "23fca3c8",
   "metadata": {},
   "outputs": [
    {
     "name": "stdout",
     "output_type": "stream",
     "text": [
      "('apple', 'banana', 'orange')\n"
     ]
    }
   ],
   "source": [
    "def show_list_items(*items):   #加* 會以tuple方式呈現 \n",
    "    print(items)\n",
    "\n",
    "element1 = 'apple'\n",
    "element2 = 'banana'\n",
    "element3 = 'orange'\n",
    "show_list_items(element1, element2, element3)"
   ]
  },
  {
   "cell_type": "code",
   "execution_count": 18,
   "id": "02ff7aa5",
   "metadata": {},
   "outputs": [
    {
     "name": "stdout",
     "output_type": "stream",
     "text": [
      "{'fname': 'Tobias', 'lname': 'Refsnes'}\n",
      "His last name is Refsnes\n"
     ]
    }
   ],
   "source": [
    "def my_function(**kid):    # ** 字典的形式\n",
    "    print(kid)\n",
    "    print(\"His last name is \" + kid[\"lname\"])\n",
    "    \n",
    "my_function(fname = \"Tobias\", lname = \"Refsnes\")"
   ]
  },
  {
   "cell_type": "code",
   "execution_count": 19,
   "id": "4337fda9",
   "metadata": {},
   "outputs": [
    {
     "name": "stdout",
     "output_type": "stream",
     "text": [
      "(40, 10.0)\n"
     ]
    }
   ],
   "source": [
    "def list_statistic(u_list):\n",
    "    num_sum = sum(u_list)\n",
    "    num_avg = num_sum / len(u_list)\n",
    "    return num_sum, num_avg\n",
    "\n",
    "my_list = [100, 20, -30, -50]\n",
    "print(list_statistic(my_list))"
   ]
  },
  {
   "cell_type": "code",
   "execution_count": 58,
   "id": "9f33f9d0",
   "metadata": {},
   "outputs": [
    {
     "name": "stdout",
     "output_type": "stream",
     "text": [
      "main function\n",
      "hello Aaron\n"
     ]
    }
   ],
   "source": [
    "def main():\n",
    "    print('main function')\n",
    "    printHello('Aaron')\n",
    "    \n",
    "def printHello(text):\n",
    "    print('hello ' + text)\n",
    "\n",
    "#if __name__ == \"__main__\":\n",
    "main()"
   ]
  },
  {
   "cell_type": "code",
   "execution_count": 59,
   "id": "a5c2246c",
   "metadata": {},
   "outputs": [
    {
     "name": "stdout",
     "output_type": "stream",
     "text": [
      "main function\n",
      "hello Aaron\n"
     ]
    }
   ],
   "source": [
    "def main():\n",
    "    print('main function')\n",
    "    printHello('Aaron')\n",
    "    \n",
    "def printHello(text):\n",
    "    print('hello ' + text)\n",
    "\n",
    "if __name__ == \"__main__\":\n",
    "    main()"
   ]
  },
  {
   "cell_type": "code",
   "execution_count": 60,
   "id": "5548a1a0",
   "metadata": {},
   "outputs": [
    {
     "name": "stdout",
     "output_type": "stream",
     "text": [
      "__main__\n"
     ]
    }
   ],
   "source": [
    "print(__name__)"
   ]
  },
  {
   "cell_type": "markdown",
   "id": "de085da3",
   "metadata": {},
   "source": [
    "# Local variables and Global variables"
   ]
  },
  {
   "cell_type": "code",
   "execution_count": 62,
   "id": "9773fa94",
   "metadata": {},
   "outputs": [
    {
     "name": "stdout",
     "output_type": "stream",
     "text": [
      "8\n"
     ]
    },
    {
     "ename": "NameError",
     "evalue": "name 'x' is not defined",
     "output_type": "error",
     "traceback": [
      "\u001b[1;31m---------------------------------------------------------------------------\u001b[0m",
      "\u001b[1;31mNameError\u001b[0m                                 Traceback (most recent call last)",
      "\u001b[1;32m~\\AppData\\Local\\Temp/ipykernel_32260/1529178619.py\u001b[0m in \u001b[0;36m<module>\u001b[1;34m\u001b[0m\n\u001b[0;32m      4\u001b[0m \u001b[1;33m\u001b[0m\u001b[0m\n\u001b[0;32m      5\u001b[0m \u001b[0mprint\u001b[0m\u001b[1;33m(\u001b[0m\u001b[0msum_number\u001b[0m\u001b[1;33m(\u001b[0m\u001b[1;36m3\u001b[0m\u001b[1;33m,\u001b[0m\u001b[1;36m5\u001b[0m\u001b[1;33m)\u001b[0m\u001b[1;33m)\u001b[0m\u001b[1;33m\u001b[0m\u001b[1;33m\u001b[0m\u001b[0m\n\u001b[1;32m----> 6\u001b[1;33m \u001b[0mprint\u001b[0m\u001b[1;33m(\u001b[0m\u001b[0mx\u001b[0m\u001b[1;33m)\u001b[0m\u001b[1;33m\u001b[0m\u001b[1;33m\u001b[0m\u001b[0m\n\u001b[0m",
      "\u001b[1;31mNameError\u001b[0m: name 'x' is not defined"
     ]
    }
   ],
   "source": [
    "def sum_number(x, y):\n",
    "    num_sum = x + y\n",
    "    return num_sum\n",
    "\n",
    "print(sum_number(3,5))\n",
    "print(x)"
   ]
  },
  {
   "cell_type": "code",
   "execution_count": 64,
   "id": "2913abf4",
   "metadata": {},
   "outputs": [
    {
     "name": "stdout",
     "output_type": "stream",
     "text": [
      "8\n",
      "3\n"
     ]
    }
   ],
   "source": [
    "x = 3\n",
    "def sum_number(y):\n",
    "    #global x\n",
    "    num_sum = x + y\n",
    "    return num_sum\n",
    "\n",
    "print(sum_number(5))\n",
    "print(x)"
   ]
  },
  {
   "cell_type": "code",
   "execution_count": null,
   "id": "f806718b",
   "metadata": {},
   "outputs": [],
   "source": []
  }
 ],
 "metadata": {
  "kernelspec": {
   "display_name": "Python 3 (ipykernel)",
   "language": "python",
   "name": "python3"
  },
  "language_info": {
   "codemirror_mode": {
    "name": "ipython",
    "version": 3
   },
   "file_extension": ".py",
   "mimetype": "text/x-python",
   "name": "python",
   "nbconvert_exporter": "python",
   "pygments_lexer": "ipython3",
   "version": "3.8.12"
  }
 },
 "nbformat": 4,
 "nbformat_minor": 5
}
