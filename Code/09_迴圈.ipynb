{
 "cells": [
  {
   "cell_type": "markdown",
   "id": "022ddf5e",
   "metadata": {},
   "source": [
    "# while loop"
   ]
  },
  {
   "cell_type": "code",
   "execution_count": 2,
   "id": "694de8fc",
   "metadata": {},
   "outputs": [
    {
     "name": "stdout",
     "output_type": "stream",
     "text": [
      "pleas make guess during 1~6.: 2\n",
      "smaller than answer\n",
      "pleas make guess during 1~6.: 5\n",
      "bigger than answer\n",
      "pleas make guess during 1~6.: 3\n",
      "bingo\n"
     ]
    }
   ],
   "source": [
    "answer = 3\n",
    "guess = 0\n",
    "\n",
    "while guess != answer:\n",
    "    guess = int(input('pleas make guess during 1~6.: '))\n",
    "    if guess > answer:\n",
    "        print('bigger than answer')\n",
    "    elif guess < answer:\n",
    "        print('smaller than answer')\n",
    "    else: \n",
    "        print('bingo')"
   ]
  },
  {
   "cell_type": "code",
   "execution_count": 2,
   "id": "55c816ec",
   "metadata": {},
   "outputs": [
    {
     "name": "stdout",
     "output_type": "stream",
     "text": [
      "pleas make guess during 1~6.: 1\n",
      "smaller than answer\n",
      "pleas make guess during 1~6.: 6\n",
      "bigger than answer\n",
      "pleas make guess during 1~6.: 4\n",
      "bigger than answer\n",
      "pleas make guess during 1~6.: 3\n",
      "bingo\n"
     ]
    }
   ],
   "source": [
    "answer = 3\n",
    "guess = 0\n",
    "\n",
    "while True:\n",
    "    guess = int(input('pleas make guess during 1~6.: '))\n",
    "    if guess > answer:\n",
    "        print('bigger than answer')\n",
    "    elif guess < answer:\n",
    "        print('smaller than answer')\n",
    "    else: \n",
    "        print('bingo')\n",
    "        break"
   ]
  },
  {
   "cell_type": "code",
   "execution_count": 5,
   "id": "c12af1eb",
   "metadata": {},
   "outputs": [
    {
     "name": "stdout",
     "output_type": "stream",
     "text": [
      "1\n",
      "2\n",
      "3\n",
      "4\n",
      "5\n"
     ]
    }
   ],
   "source": [
    "i = 1\n",
    "while i < 6:\n",
    "    print(i)\n",
    "    i += 1 # i = i + 1"
   ]
  },
  {
   "cell_type": "code",
   "execution_count": 11,
   "id": "e261504e",
   "metadata": {},
   "outputs": [
    {
     "name": "stdout",
     "output_type": "stream",
     "text": [
      "num_sum: 0, i: 0\n",
      "num_sum: 1, i: 1\n",
      "num_sum: 3, i: 2\n",
      "num_sum: 6, i: 3\n",
      "num_sum: 10, i: 4\n",
      "num_sum: 15, i: 5\n",
      "num_sum: 21, i: 6\n",
      "num_sum: 28, i: 7\n",
      "num_sum: 36, i: 8\n",
      "num_sum: 45, i: 9\n",
      "num_sum: 55, i: 10\n",
      "num_sum: 66, i: 11\n",
      "num_sum: 78, i: 12\n",
      "num_sum: 91, i: 13\n",
      "num_sum: 105, i: 14\n",
      "num_sum: 120, i: 15\n",
      "num_sum: 136, i: 16\n",
      "num_sum: 153, i: 17\n",
      "num_sum: 171, i: 18\n",
      "num_sum: 190, i: 19\n",
      "num_sum: 210, i: 20\n",
      "num_sum: 231, i: 21\n",
      "num_sum: 253, i: 22\n",
      "num_sum: 276, i: 23\n",
      "num_sum: 300, i: 24\n",
      "num_sum: 325, i: 25\n",
      "num_sum: 351, i: 26\n",
      "num_sum: 378, i: 27\n",
      "num_sum: 406, i: 28\n",
      "num_sum: 435, i: 29\n",
      "num_sum: 465, i: 30\n",
      "num_sum: 496, i: 31\n",
      "num_sum: 528, i: 32\n",
      "num_sum: 561, i: 33\n",
      "num_sum: 595, i: 34\n",
      "num_sum: 630, i: 35\n",
      "num_sum: 666, i: 36\n",
      "num_sum: 703, i: 37\n",
      "num_sum: 741, i: 38\n",
      "num_sum: 780, i: 39\n",
      "num_sum: 820, i: 40\n",
      "num_sum: 861, i: 41\n",
      "num_sum: 903, i: 42\n",
      "num_sum: 946, i: 43\n",
      "num_sum: 990, i: 44\n",
      "num_sum: 1035, i: 45\n",
      "num_sum: 1081, i: 46\n",
      "num_sum: 1128, i: 47\n",
      "num_sum: 1176, i: 48\n",
      "num_sum: 1225, i: 49\n",
      "num_sum: 1275, i: 50\n",
      "num_sum: 1326, i: 51\n",
      "num_sum: 1378, i: 52\n",
      "num_sum: 1431, i: 53\n",
      "num_sum: 1485, i: 54\n",
      "num_sum: 1540, i: 55\n",
      "num_sum: 1596, i: 56\n",
      "num_sum: 1653, i: 57\n",
      "num_sum: 1711, i: 58\n",
      "num_sum: 1770, i: 59\n",
      "num_sum: 1830, i: 60\n",
      "num_sum: 1891, i: 61\n",
      "num_sum: 1953, i: 62\n",
      "num_sum: 2016, i: 63\n",
      "num_sum: 2080, i: 64\n",
      "num_sum: 2145, i: 65\n",
      "num_sum: 2211, i: 66\n",
      "num_sum: 2278, i: 67\n",
      "num_sum: 2346, i: 68\n",
      "num_sum: 2415, i: 69\n",
      "num_sum: 2485, i: 70\n",
      "num_sum: 2556, i: 71\n",
      "num_sum: 2628, i: 72\n",
      "num_sum: 2701, i: 73\n",
      "num_sum: 2775, i: 74\n",
      "num_sum: 2850, i: 75\n",
      "num_sum: 2926, i: 76\n",
      "num_sum: 3003, i: 77\n",
      "num_sum: 3081, i: 78\n",
      "num_sum: 3160, i: 79\n",
      "num_sum: 3240, i: 80\n",
      "num_sum: 3321, i: 81\n",
      "num_sum: 3403, i: 82\n",
      "num_sum: 3486, i: 83\n",
      "num_sum: 3570, i: 84\n",
      "num_sum: 3655, i: 85\n",
      "num_sum: 3741, i: 86\n",
      "num_sum: 3828, i: 87\n",
      "num_sum: 3916, i: 88\n",
      "num_sum: 4005, i: 89\n",
      "num_sum: 4095, i: 90\n",
      "num_sum: 4186, i: 91\n",
      "num_sum: 4278, i: 92\n",
      "num_sum: 4371, i: 93\n",
      "num_sum: 4465, i: 94\n",
      "num_sum: 4560, i: 95\n",
      "num_sum: 4656, i: 96\n",
      "num_sum: 4753, i: 97\n",
      "num_sum: 4851, i: 98\n",
      "num_sum: 4950, i: 99\n",
      "num_sum: 5050, i: 100\n",
      "0+1+2+.....+100 = 5050\n"
     ]
    }
   ],
   "source": [
    "i = 0 \n",
    "num_sum = 0\n",
    "while i <= 100:\n",
    "    num_sum = num_sum + i \n",
    "    print('num_sum: {}, i: {}'.format(num_sum, i))\n",
    "    i = i + 1\n",
    "print('0+1+2+.....+100 = {}'.format(num_sum))"
   ]
  },
  {
   "cell_type": "code",
   "execution_count": 12,
   "id": "fc94329e",
   "metadata": {},
   "outputs": [
    {
     "name": "stdout",
     "output_type": "stream",
     "text": [
      "num_sum: 0, i: 0\n",
      "num_sum: 2, i: 2\n",
      "num_sum: 6, i: 4\n",
      "num_sum: 12, i: 6\n",
      "num_sum: 20, i: 8\n",
      "num_sum: 30, i: 10\n",
      "num_sum: 42, i: 12\n",
      "num_sum: 56, i: 14\n",
      "num_sum: 72, i: 16\n",
      "num_sum: 90, i: 18\n",
      "num_sum: 110, i: 20\n",
      "num_sum: 132, i: 22\n",
      "num_sum: 156, i: 24\n",
      "num_sum: 182, i: 26\n",
      "num_sum: 210, i: 28\n",
      "num_sum: 240, i: 30\n",
      "num_sum: 272, i: 32\n",
      "num_sum: 306, i: 34\n",
      "num_sum: 342, i: 36\n",
      "num_sum: 380, i: 38\n",
      "num_sum: 420, i: 40\n",
      "num_sum: 462, i: 42\n",
      "num_sum: 506, i: 44\n",
      "num_sum: 552, i: 46\n",
      "num_sum: 600, i: 48\n",
      "num_sum: 650, i: 50\n",
      "num_sum: 702, i: 52\n",
      "num_sum: 756, i: 54\n",
      "num_sum: 812, i: 56\n",
      "num_sum: 870, i: 58\n",
      "num_sum: 930, i: 60\n",
      "num_sum: 992, i: 62\n",
      "num_sum: 1056, i: 64\n",
      "num_sum: 1122, i: 66\n",
      "num_sum: 1190, i: 68\n",
      "num_sum: 1260, i: 70\n",
      "num_sum: 1332, i: 72\n",
      "num_sum: 1406, i: 74\n",
      "num_sum: 1482, i: 76\n",
      "num_sum: 1560, i: 78\n",
      "num_sum: 1640, i: 80\n",
      "num_sum: 1722, i: 82\n",
      "num_sum: 1806, i: 84\n",
      "num_sum: 1892, i: 86\n",
      "num_sum: 1980, i: 88\n",
      "num_sum: 2070, i: 90\n",
      "num_sum: 2162, i: 92\n",
      "num_sum: 2256, i: 94\n",
      "num_sum: 2352, i: 96\n",
      "num_sum: 2450, i: 98\n",
      "num_sum: 2550, i: 100\n",
      "0+2+4+6....+100 = 2550\n"
     ]
    }
   ],
   "source": [
    "i = 0\n",
    "num_sum = 0\n",
    "while i <= 100:\n",
    "    if i % 2 == 1:\n",
    "        i = i+1\n",
    "        continue\n",
    "    num_sum = num_sum + i\n",
    "    print('num_sum: {}, i: {}'.format(num_sum, i))\n",
    "    i = i +1\n",
    "    \n",
    "print('0+2+4+6....+100 = {}'.format(num_sum))"
   ]
  },
  {
   "cell_type": "code",
   "execution_count": 13,
   "id": "0ac115ed",
   "metadata": {
    "scrolled": true
   },
   "outputs": [
    {
     "name": "stdout",
     "output_type": "stream",
     "text": [
      "0+1+2+....+100= 5050\n"
     ]
    }
   ],
   "source": [
    "i = 0\n",
    "num_sum = 0\n",
    "while True:\n",
    "    if i > 100:\n",
    "        break\n",
    "    num_sum = num_sum + i\n",
    "    i = i + 1\n",
    "print('0+1+2+....+100= {}'.format(num_sum))"
   ]
  },
  {
   "cell_type": "markdown",
   "id": "7be44034",
   "metadata": {},
   "source": [
    "# for loop"
   ]
  },
  {
   "cell_type": "code",
   "execution_count": 27,
   "id": "940ed769",
   "metadata": {},
   "outputs": [
    {
     "name": "stdout",
     "output_type": "stream",
     "text": [
      "P\n",
      "P\n",
      "y\n",
      "y\n",
      "t\n",
      "t\n",
      "h\n",
      "h\n",
      "o\n",
      "o\n",
      "n\n",
      "n\n",
      "n\n"
     ]
    }
   ],
   "source": [
    "for c in 'Python':\n",
    "    print(f'{c}')\n",
    "    print(c)\n",
    "print(c)"
   ]
  },
  {
   "cell_type": "code",
   "execution_count": 29,
   "id": "60898543",
   "metadata": {},
   "outputs": [
    {
     "name": "stdout",
     "output_type": "stream",
     "text": [
      "fruits: watermelon\n",
      "fruits: guava\n",
      "fruits: strawberry\n"
     ]
    }
   ],
   "source": [
    "fruits = ['watermelon', 'guava', 'strawberry']\n",
    "for f in fruits:\n",
    "    print(f\"fruits: {f}\")"
   ]
  },
  {
   "cell_type": "code",
   "execution_count": 30,
   "id": "098f9281",
   "metadata": {},
   "outputs": [
    {
     "name": "stdout",
     "output_type": "stream",
     "text": [
      "0 1 2 3 4 5 6 7 8 9 "
     ]
    }
   ],
   "source": [
    "for i in range(10):\n",
    "    print(i, end=' ')"
   ]
  },
  {
   "cell_type": "code",
   "execution_count": 32,
   "id": "85ff6341",
   "metadata": {},
   "outputs": [
    {
     "name": "stdout",
     "output_type": "stream",
     "text": [
      "5 6 7 8 9 "
     ]
    }
   ],
   "source": [
    "for i in range(5,10):\n",
    "    print(i, end=' ')"
   ]
  },
  {
   "cell_type": "code",
   "execution_count": 33,
   "id": "2fb8c120",
   "metadata": {},
   "outputs": [
    {
     "name": "stdout",
     "output_type": "stream",
     "text": [
      "1 3 5 7 9 "
     ]
    }
   ],
   "source": [
    "for i in range(1,10,2):\n",
    "    print(i, end=' ')"
   ]
  },
  {
   "cell_type": "code",
   "execution_count": 35,
   "id": "c7a18495",
   "metadata": {},
   "outputs": [
    {
     "name": "stdout",
     "output_type": "stream",
     "text": [
      "10 -20 15 "
     ]
    }
   ],
   "source": [
    "my_list = [10, -20, 15]\n",
    "for i in my_list:\n",
    "    print(i, end=' ')"
   ]
  },
  {
   "cell_type": "code",
   "execution_count": 36,
   "id": "e1bca963",
   "metadata": {},
   "outputs": [
    {
     "name": "stdout",
     "output_type": "stream",
     "text": [
      "0\n",
      "10\n",
      "1\n",
      "-20\n",
      "2\n",
      "15\n"
     ]
    }
   ],
   "source": [
    "my_list = [10, -20, 15]\n",
    "for i in range(len(my_list)):\n",
    "    print(i)\n",
    "    print(my_list[i])"
   ]
  },
  {
   "cell_type": "code",
   "execution_count": 38,
   "id": "fcf9f348",
   "metadata": {},
   "outputs": [
    {
     "name": "stdout",
     "output_type": "stream",
     "text": [
      "0 10\n",
      "1 -20\n",
      "2 15\n"
     ]
    }
   ],
   "source": [
    "my_list = [10, -20, 15]\n",
    "for index,i in enumerate(my_list):\n",
    "    print(index,i)"
   ]
  },
  {
   "cell_type": "code",
   "execution_count": 39,
   "id": "3cc728cd",
   "metadata": {},
   "outputs": [
    {
     "name": "stdout",
     "output_type": "stream",
     "text": [
      "(0, 10)\n",
      "(1, -20)\n",
      "(2, 15)\n"
     ]
    }
   ],
   "source": [
    "my_list = [10, -20, 15]\n",
    "for i in enumerate(my_list):\n",
    "    print(i)"
   ]
  },
  {
   "cell_type": "code",
   "execution_count": 41,
   "id": "776fcdca",
   "metadata": {},
   "outputs": [
    {
     "name": "stdout",
     "output_type": "stream",
     "text": [
      "10 -20 15 "
     ]
    }
   ],
   "source": [
    "my_tuple = (10, -20, 15)\n",
    "for i in my_tuple:\n",
    "    print(i, end= ' ')"
   ]
  },
  {
   "cell_type": "code",
   "execution_count": 44,
   "id": "b0d151c0",
   "metadata": {},
   "outputs": [
    {
     "name": "stdout",
     "output_type": "stream",
     "text": [
      "t e s t 1 2 3 "
     ]
    }
   ],
   "source": [
    "my_string = 'test123'\n",
    "for i in my_string:\n",
    "    print(i,end=' ')"
   ]
  },
  {
   "cell_type": "code",
   "execution_count": 45,
   "id": "c60b4fe7",
   "metadata": {},
   "outputs": [
    {
     "name": "stdout",
     "output_type": "stream",
     "text": [
      "isaac\n",
      "andy\n",
      "judy\n"
     ]
    }
   ],
   "source": [
    "my_dict = {'isaac':50, 'andy':80, 'judy':20}\n",
    "for i in my_dict:\n",
    "    print(i)"
   ]
  },
  {
   "cell_type": "code",
   "execution_count": 47,
   "id": "33bce66c",
   "metadata": {},
   "outputs": [
    {
     "name": "stdout",
     "output_type": "stream",
     "text": [
      "50\n",
      "80\n",
      "20\n"
     ]
    }
   ],
   "source": [
    "my_dict = {'isaac':50, 'andy':80, 'judy':20}\n",
    "for i in my_dict.values():\n",
    "    print(i)"
   ]
  },
  {
   "cell_type": "markdown",
   "id": "4248a888",
   "metadata": {},
   "source": [
    "# nested loop"
   ]
  },
  {
   "cell_type": "code",
   "execution_count": 54,
   "id": "80e42a3f",
   "metadata": {},
   "outputs": [
    {
     "name": "stdout",
     "output_type": "stream",
     "text": [
      "i: 0, j: 0\n",
      "i: 0, j: 1\n",
      "i: 0, j: 2\n",
      "i: 0, j: 3\n",
      "i: 0, j: 4\n",
      "i: 1, j: 0\n",
      "i: 1, j: 1\n",
      "i: 1, j: 2\n",
      "i: 1, j: 3\n",
      "i: 1, j: 4\n",
      "i: 2, j: 0\n",
      "i: 2, j: 1\n",
      "i: 2, j: 2\n",
      "i: 2, j: 3\n",
      "i: 2, j: 4\n",
      "i: 3, j: 0\n",
      "i: 3, j: 1\n",
      "i: 3, j: 2\n",
      "i: 3, j: 3\n",
      "i: 3, j: 4\n",
      "i: 4, j: 0\n",
      "i: 4, j: 1\n",
      "i: 4, j: 2\n",
      "i: 4, j: 3\n",
      "i: 4, j: 4\n"
     ]
    }
   ],
   "source": [
    "n = 5\n",
    "for i in range(n):\n",
    "    for j in range(n):\n",
    "        print('i: {}, j: {}'.format(i,j))"
   ]
  },
  {
   "cell_type": "code",
   "execution_count": 55,
   "id": "970b993c",
   "metadata": {},
   "outputs": [
    {
     "name": "stdout",
     "output_type": "stream",
     "text": [
      "*****\n",
      "*****\n",
      "*****\n",
      "*****\n",
      "*****\n"
     ]
    }
   ],
   "source": [
    "n = 5\n",
    "for i in range(n):\n",
    "    for j in range(n):\n",
    "        #print('i: {}, j: {}'.format(i,j))\n",
    "        print('*', end='')\n",
    "    print('')"
   ]
  },
  {
   "cell_type": "code",
   "execution_count": 56,
   "id": "28c9e643",
   "metadata": {},
   "outputs": [
    {
     "name": "stdout",
     "output_type": "stream",
     "text": [
      "i: 1, j: 0\n",
      "i: 2, j: 0\n",
      "i: 2, j: 1\n",
      "i: 3, j: 0\n",
      "i: 3, j: 1\n",
      "i: 3, j: 2\n",
      "i: 4, j: 0\n",
      "i: 4, j: 1\n",
      "i: 4, j: 2\n",
      "i: 4, j: 3\n"
     ]
    }
   ],
   "source": [
    "n = 5\n",
    "for i in range(n):\n",
    "    for j in range(i):\n",
    "        print('i: {}, j: {}'.format(i,j))"
   ]
  },
  {
   "cell_type": "code",
   "execution_count": 59,
   "id": "72041568",
   "metadata": {},
   "outputs": [
    {
     "name": "stdout",
     "output_type": "stream",
     "text": [
      "\n",
      "* \n",
      "* * \n",
      "* * * \n",
      "* * * * \n",
      "* * * * * \n",
      "* * * * \n",
      "* * * \n",
      "* * \n",
      "* \n"
     ]
    }
   ],
   "source": [
    "n = 5\n",
    "for i in range(n):\n",
    "    for j in range(i):\n",
    "        #print('i: {}, j: {}'.format(i,j))\n",
    "        print('* ', end='')\n",
    "    print('')\n",
    "\n",
    "for i in range(n,0,-1):\n",
    "    for j in range(i):\n",
    "        print('* ', end='')\n",
    "    print('')"
   ]
  },
  {
   "cell_type": "code",
   "execution_count": 60,
   "id": "d0b4baae",
   "metadata": {},
   "outputs": [
    {
     "name": "stdout",
     "output_type": "stream",
     "text": [
      "5\n",
      "4\n",
      "3\n",
      "2\n",
      "1\n"
     ]
    }
   ],
   "source": [
    "for i in range(5,0,-1):\n",
    "    print(i)"
   ]
  },
  {
   "cell_type": "code",
   "execution_count": 61,
   "id": "952fc289",
   "metadata": {
    "scrolled": true
   },
   "outputs": [
    {
     "name": "stdout",
     "output_type": "stream",
     "text": [
      "1\n",
      "3\n",
      "5\n",
      "7\n",
      "9\n"
     ]
    }
   ],
   "source": [
    "for i in range(1,10,2):\n",
    "    print(i)"
   ]
  },
  {
   "cell_type": "markdown",
   "id": "1d913775",
   "metadata": {},
   "source": [
    "# 練習1"
   ]
  },
  {
   "cell_type": "markdown",
   "id": "bcce93c6",
   "metadata": {},
   "source": [
    "# input a integer, use for loop to print pyramid in star symbol(*)."
   ]
  },
  {
   "cell_type": "code",
   "execution_count": 275,
   "id": "0257b20c",
   "metadata": {},
   "outputs": [
    {
     "name": "stdout",
     "output_type": "stream",
     "text": [
      "5\n",
      "    *\n",
      "   ***\n",
      "  *****\n",
      " *******\n",
      "*********\n",
      "    *\n",
      "   ***\n",
      "  *****\n",
      " *******\n",
      "*********\n"
     ]
    }
   ],
   "source": [
    "level = int(input())\n",
    "\n",
    "## write your code here \n",
    "for i in range(1,level+1):\n",
    "    print(' ' * (level-i) + '*' * (i*2-1))\n",
    "\n",
    "#老師解答\n",
    "for i in range(level):\n",
    "    print(' ' * (level-i-1) + '*' * (i*2+1))"
   ]
  },
  {
   "cell_type": "markdown",
   "id": "0cca69aa",
   "metadata": {},
   "source": [
    "# input a integer, calculate factorial of the number."
   ]
  },
  {
   "cell_type": "code",
   "execution_count": 92,
   "id": "fc458398",
   "metadata": {},
   "outputs": [
    {
     "name": "stdout",
     "output_type": "stream",
     "text": [
      "6\n",
      "result=1 , i=1\n",
      "result=2 , i=2\n",
      "result=6 , i=3\n",
      "result=24 , i=4\n",
      "result=120 , i=5\n",
      "result=720 , i=6\n",
      "result is 720\n"
     ]
    }
   ],
   "source": [
    "number = int(input())\n",
    "result = 1\n",
    "## write your code here\n",
    "for i in range(1, number+1):\n",
    "    result = result * i\n",
    "    print('result={} , i={}'.format(result, i))\n",
    "print('result is {}'.format(result))"
   ]
  },
  {
   "cell_type": "markdown",
   "id": "233ea330",
   "metadata": {},
   "source": [
    "# Write a Python program to count the number of even and odd numbers from a series of numbers."
   ]
  },
  {
   "cell_type": "code",
   "execution_count": 98,
   "id": "ddce872c",
   "metadata": {},
   "outputs": [
    {
     "name": "stdout",
     "output_type": "stream",
     "text": [
      "Number of even numbers : 4\n",
      "Number of odd numbers : 8\n"
     ]
    }
   ],
   "source": [
    "numbers = [1, 2, 3, 4, 5, 6, 7, 8, 9] \n",
    "numbers = [1, 2, 3, 4, 5, 6, 7, 8, 9,11,13,15] \n",
    "count_odd = 0\n",
    "count_even = 0\n",
    "\n",
    "## write your code here\n",
    "for i in numbers:\n",
    "    if i%2==0:\n",
    "        count_even += 1\n",
    "    if i%2!=0:\n",
    "        count_odd += 1\n",
    "\n",
    "print(\"Number of even numbers :\",count_even)\n",
    "print(\"Number of odd numbers :\",count_odd)"
   ]
  },
  {
   "cell_type": "code",
   "execution_count": 97,
   "id": "a1ea8947",
   "metadata": {},
   "outputs": [
    {
     "name": "stdout",
     "output_type": "stream",
     "text": [
      "Number of even numbers : 4\n",
      "Number of odd numbers : 8\n"
     ]
    }
   ],
   "source": [
    "#老師解答\n",
    "numbers = [1, 2, 3, 4, 5, 6, 7, 8, 9,11,13,15] \n",
    "count_odd = 0\n",
    "count_even = 0\n",
    "for x in numbers:\n",
    "    if x % 2 == 0:\n",
    "        count_even+=1\n",
    "    else:\n",
    "        count_odd+=1\n",
    "print(\"Number of even numbers :\",count_even)\n",
    "print(\"Number of odd numbers :\",count_odd)"
   ]
  },
  {
   "cell_type": "markdown",
   "id": "96bac728",
   "metadata": {},
   "source": [
    "# Write a Python program that prints all the numbers from 0 to 6 except 2 and 6."
   ]
  },
  {
   "cell_type": "code",
   "execution_count": 88,
   "id": "37d54286",
   "metadata": {},
   "outputs": [
    {
     "name": "stdout",
     "output_type": "stream",
     "text": [
      "0 1 3 4 5 "
     ]
    }
   ],
   "source": [
    "for i in range(7):\n",
    "    if i==2 or i==6:\n",
    "        continue\n",
    "    print(i, end=' ')"
   ]
  },
  {
   "cell_type": "code",
   "execution_count": 96,
   "id": "51a69ed6",
   "metadata": {},
   "outputs": [
    {
     "name": "stdout",
     "output_type": "stream",
     "text": [
      "0 1 3 4 5 \n",
      "\n"
     ]
    }
   ],
   "source": [
    "#老師解答\n",
    "for x in range(6):\n",
    "    if (x == 2 or x==6):\n",
    "        continue\n",
    "    print(x,end=' ')\n",
    "print(\"\\n\")"
   ]
  },
  {
   "cell_type": "markdown",
   "id": "c8593e11",
   "metadata": {},
   "source": [
    "# 練習2"
   ]
  },
  {
   "cell_type": "markdown",
   "id": "b3f7b023",
   "metadata": {},
   "source": [
    "# Write a Python program to find those numbers which are divisible by 7 and multiple of 5, between 1500 and 2700 (both included)"
   ]
  },
  {
   "cell_type": "code",
   "execution_count": 111,
   "id": "7b15c705",
   "metadata": {},
   "outputs": [
    {
     "name": "stdout",
     "output_type": "stream",
     "text": [
      "1505,1540,1575,1610,1645,1680,1715,1750,1785,1820,1855,1890,1925,1960,1995,2030,2065,2100,2135,2170,2205,2240,2275,2310,2345,2380,2415,2450,2485,2520,2555,2590,2625,2660,2695\n"
     ]
    }
   ],
   "source": [
    "for i in range(1500,2701):\n",
    "    if i == 2695:\n",
    "        print(i)\n",
    "    elif i%7==0 and i%5==0:\n",
    "        print(i, end=',')"
   ]
  },
  {
   "cell_type": "code",
   "execution_count": 143,
   "id": "6e68e100",
   "metadata": {},
   "outputs": [
    {
     "name": "stdout",
     "output_type": "stream",
     "text": [
      "1505,1540,1575,1610,1645,1680,1715,1750,1785,1820,1855,1890,1925,1960,1995,2030,2065,2100,2135,2170,2205,2240,2275,2310,2345,2380,2415,2450,2485,2520,2555,2590,2625,2660,2695\n"
     ]
    }
   ],
   "source": [
    "nl=[]\n",
    "for x in range(1500, 2701):\n",
    "    if (x%7==0) and (x%5==0):\n",
    "        nl.append(str(x))\n",
    "print(','.join(nl))"
   ]
  },
  {
   "cell_type": "code",
   "execution_count": 144,
   "id": "e816ce45",
   "metadata": {},
   "outputs": [
    {
     "name": "stdout",
     "output_type": "stream",
     "text": [
      "1505,1540,1575,1610,1645,1680,1715,1750,1785,1820,1855,1890,1925,1960,1995,2030,2065,2100,2135,2170,2205,2240,2275,2310,2345,2380,2415,2450,2485,2520,2555,2590,2625,2660,2695\n"
     ]
    }
   ],
   "source": [
    "my_string = ''\n",
    "for x in range(1500, 2701):\n",
    "    if (x%7==0) and (x%5==0):\n",
    "        my_string = my_string + str(x) + ','\n",
    "print(my_string[:-1])"
   ]
  },
  {
   "cell_type": "markdown",
   "id": "8fdba629",
   "metadata": {},
   "source": [
    "# Write a Python program that accepts a word from the user and reverse it."
   ]
  },
  {
   "cell_type": "code",
   "execution_count": 127,
   "id": "e33ec330",
   "metadata": {},
   "outputs": [
    {
     "name": "stdout",
     "output_type": "stream",
     "text": [
      "Input a word to reverse: isaac\n",
      "caasi"
     ]
    }
   ],
   "source": [
    "word = input(\"Input a word to reverse: \")\n",
    "\n",
    "for i in range(len(word)-1,-1,-1):\n",
    "    print(word[i], end='')"
   ]
  },
  {
   "cell_type": "code",
   "execution_count": 150,
   "id": "f41db557",
   "metadata": {},
   "outputs": [
    {
     "name": "stdout",
     "output_type": "stream",
     "text": [
      "Input a word to reverse: aaron\n",
      "['n', 'o', 'r', 'a', 'a']\n",
      "noraa\n"
     ]
    }
   ],
   "source": [
    "word = input('Input a word to reverse: ')\n",
    "word_list = list(word)\n",
    "word_list.reverse()\n",
    "print(word_list)\n",
    "result = ''.join(word_list)\n",
    "print(result)"
   ]
  },
  {
   "cell_type": "markdown",
   "id": "8d3d4dd6",
   "metadata": {},
   "source": [
    "# write 9*9 multiplication table"
   ]
  },
  {
   "cell_type": "code",
   "execution_count": 164,
   "id": "46b61ffc",
   "metadata": {},
   "outputs": [
    {
     "name": "stdout",
     "output_type": "stream",
     "text": [
      "1*1=1  1*2=2  1*3=3  1*4=4  1*5=5  1*6=6  1*7=7  1*8=8  1*9=9  \n",
      "2*1=2  2*2=4  2*3=6  2*4=8  2*5=10 2*6=12 2*7=14 2*8=16 2*9=18 \n",
      "3*1=3  3*2=6  3*3=9  3*4=12 3*5=15 3*6=18 3*7=21 3*8=24 3*9=27 \n",
      "4*1=4  4*2=8  4*3=12 4*4=16 4*5=20 4*6=24 4*7=28 4*8=32 4*9=36 \n",
      "5*1=5  5*2=10 5*3=15 5*4=20 5*5=25 5*6=30 5*7=35 5*8=40 5*9=45 \n",
      "6*1=6  6*2=12 6*3=18 6*4=24 6*5=30 6*6=36 6*7=42 6*8=48 6*9=54 \n",
      "7*1=7  7*2=14 7*3=21 7*4=28 7*5=35 7*6=42 7*7=49 7*8=56 7*9=63 \n",
      "8*1=8  8*2=16 8*3=24 8*4=32 8*5=40 8*6=48 8*7=56 8*8=64 8*9=72 \n",
      "9*1=9  9*2=18 9*3=27 9*4=36 9*5=45 9*6=54 9*7=63 9*8=72 9*9=81 \n"
     ]
    }
   ],
   "source": [
    "for i in range(1,10):\n",
    "    for j in range(1,10):\n",
    "        #print('%d*%d=%-3d' %(i,j, i*j), end='')\n",
    "        print('{}*{}={:<2d} '.format(i,j,i*j), end='')\n",
    "        #print('{}*{}={} '.format(i,j,i*j), end='')\n",
    "    print('')"
   ]
  },
  {
   "cell_type": "markdown",
   "id": "1996f5ea",
   "metadata": {},
   "source": [
    "# 練習3"
   ]
  },
  {
   "cell_type": "markdown",
   "id": "f41cd8df",
   "metadata": {},
   "source": [
    "# Use \"nested for loop\" to print right triangle"
   ]
  },
  {
   "cell_type": "code",
   "execution_count": 167,
   "id": "0e432eb7",
   "metadata": {},
   "outputs": [
    {
     "name": "stdout",
     "output_type": "stream",
     "text": [
      "a\n",
      "aa\n",
      "aaa\n",
      "aaaa\n",
      "aaaaa\n",
      "aaaaaa\n",
      "aaaaaaa\n",
      "aaaaaaaa\n",
      "aaaaaaaaa\n"
     ]
    }
   ],
   "source": [
    "for i in range(1,10):\n",
    "    for j in range(i):\n",
    "        print('a',end='')\n",
    "    print()"
   ]
  },
  {
   "cell_type": "code",
   "execution_count": 176,
   "id": "6e2fb09f",
   "metadata": {},
   "outputs": [
    {
     "name": "stdout",
     "output_type": "stream",
     "text": [
      "a\n",
      "aa\n",
      "aaa\n",
      "aaaa\n",
      "aaaaa\n",
      "aaaaaa\n",
      "aaaaaaa\n",
      "aaaaaaaa\n",
      "aaaaaaaaa\n"
     ]
    }
   ],
   "source": [
    "for i in range(1, 10):\n",
    "    for j in range(1, 10):\n",
    "        if j <= i :\n",
    "            print('a', end='')\n",
    "    print()"
   ]
  },
  {
   "cell_type": "markdown",
   "id": "297551bf",
   "metadata": {},
   "source": [
    "# Write a Python program to sum all the items in a list"
   ]
  },
  {
   "cell_type": "code",
   "execution_count": 170,
   "id": "b5ab43d8",
   "metadata": {},
   "outputs": [
    {
     "name": "stdout",
     "output_type": "stream",
     "text": [
      "sum: -78\n"
     ]
    }
   ],
   "source": [
    "my_list = [-100, 20, 9, -7]\n",
    "\n",
    "## write your code here\n",
    "sum_numbers=0\n",
    "for i in range(len(my_list)):\n",
    "    sum_numbers += int(my_list[i])\n",
    "\n",
    "print('sum: {}'.format(sum_numbers))"
   ]
  },
  {
   "cell_type": "code",
   "execution_count": 180,
   "id": "a1f83efe",
   "metadata": {},
   "outputs": [
    {
     "name": "stdout",
     "output_type": "stream",
     "text": [
      "sum: -78\n"
     ]
    }
   ],
   "source": [
    "#老師解\n",
    "items = [-100, 20, 9, -7]\n",
    "sum_numbers = 0\n",
    "for x in items:\n",
    "    #print(x, end=' ')\n",
    "    sum_numbers += x\n",
    "\n",
    "print('sum: {}'.format(sum_numbers))"
   ]
  },
  {
   "cell_type": "markdown",
   "id": "6b208ede",
   "metadata": {},
   "source": [
    "# Write a Python program to get the largest number from a list"
   ]
  },
  {
   "cell_type": "code",
   "execution_count": 173,
   "id": "09ebea7a",
   "metadata": {},
   "outputs": [
    {
     "name": "stdout",
     "output_type": "stream",
     "text": [
      "max number is 20\n"
     ]
    }
   ],
   "source": [
    "my_list = [-100, 20, 9, -7]\n",
    "\n",
    "## write your code here\n",
    "max_number = 0\n",
    "for i in range(len(my_list)):\n",
    "    if int(my_list[i]) > max_number:\n",
    "        max_number = my_list[i]\n",
    "\n",
    "print('max number is {}'.format(max_number))"
   ]
  },
  {
   "cell_type": "code",
   "execution_count": 182,
   "id": "36384b1e",
   "metadata": {},
   "outputs": [
    {
     "name": "stdout",
     "output_type": "stream",
     "text": [
      "max_number is 900\n"
     ]
    }
   ],
   "source": [
    "#老師解\n",
    "my_list = [-100, 20, 900, -7]\n",
    "max_number = my_list[0]\n",
    "\n",
    "for i in my_list:\n",
    "    if i > max_number:\n",
    "        max_number = i\n",
    "        \n",
    "print('max_number is {}'.format(max_number))"
   ]
  },
  {
   "cell_type": "code",
   "execution_count": 183,
   "id": "1ecc42e9",
   "metadata": {},
   "outputs": [
    {
     "name": "stdout",
     "output_type": "stream",
     "text": [
      "900\n"
     ]
    }
   ],
   "source": [
    "print(max(my_list))"
   ]
  },
  {
   "cell_type": "markdown",
   "id": "18a1aad9",
   "metadata": {},
   "source": [
    "# Write a Python program to remove duplicates from a list."
   ]
  },
  {
   "cell_type": "code",
   "execution_count": 184,
   "id": "9e80f091",
   "metadata": {},
   "outputs": [
    {
     "name": "stdout",
     "output_type": "stream",
     "text": [
      "[10, 20, 30, 40, 50, 60, 80]\n"
     ]
    }
   ],
   "source": [
    "my_list = [10,20,30,20,10,50,60,40,80,50,40]\n",
    "\n",
    "## write your code here\n",
    "my_set = set(my_list)\n",
    "#print(my_set)\n",
    "result = list(my_set)\n",
    "result.sort()\n",
    "print(result)"
   ]
  },
  {
   "cell_type": "code",
   "execution_count": 190,
   "id": "f9214992",
   "metadata": {},
   "outputs": [
    {
     "name": "stdout",
     "output_type": "stream",
     "text": [
      "[40, 10, 80, 50, 20, 60, 30]\n",
      "[10, 20, 30, 50, 60, 40, 80]\n"
     ]
    }
   ],
   "source": [
    "#另解\n",
    "my_list = [10,20,30,20,10,50,60,40,80,50,40]\n",
    "\n",
    "dup_items = set()\n",
    "uniq_items = []\n",
    "for x in my_list:\n",
    "    if x not in dup_items:\n",
    "        uniq_items.append(x)\n",
    "        dup_items.add(x)\n",
    "        \n",
    "print(list(dup_items))\n",
    "print(uniq_items)"
   ]
  },
  {
   "cell_type": "markdown",
   "id": "2bafce98",
   "metadata": {},
   "source": [
    "# 練習4"
   ]
  },
  {
   "cell_type": "markdown",
   "id": "0253e890",
   "metadata": {},
   "source": [
    "# input a number greater than 1, detect if this number is prime number or not\n",
    "## if it is prime number, print \"this is a prime number\"\n",
    "## if it is not prime number ,print \"this is not a prime number\""
   ]
  },
  {
   "cell_type": "code",
   "execution_count": 225,
   "id": "2bc57d72",
   "metadata": {},
   "outputs": [
    {
     "name": "stdout",
     "output_type": "stream",
     "text": [
      "13 is a prime number\n"
     ]
    }
   ],
   "source": [
    "num = 13\n",
    "  \n",
    "## write your code here\n",
    "is_prime = 1\n",
    "\n",
    "#Iterate from 2 to n/2\n",
    "for i in range(2,num):\n",
    "#for i in range(2, num//2)\n",
    "    #print(i)\n",
    "    #If num is divisible by any number between\n",
    "    # 2 and n/2 , it is not prime\n",
    "    if num % i ==0:\n",
    "        is_prime=0\n",
    "        break\n",
    "if (is_prime == 0):\n",
    "    print(num, 'is not a prime number')\n",
    "else:\n",
    "    print(num, 'is a prime number')"
   ]
  },
  {
   "cell_type": "code",
   "execution_count": 226,
   "id": "d456ca5f",
   "metadata": {},
   "outputs": [
    {
     "data": {
      "text/plain": [
       "2"
      ]
     },
     "execution_count": 226,
     "metadata": {},
     "output_type": "execute_result"
    }
   ],
   "source": [
    "12//5"
   ]
  },
  {
   "cell_type": "markdown",
   "id": "c9263472",
   "metadata": {},
   "source": [
    "# Given a test string, please switch this string to lower and  calculate frequency of each character"
   ]
  },
  {
   "cell_type": "code",
   "execution_count": 228,
   "id": "17d2fd68",
   "metadata": {},
   "outputs": [
    {
     "name": "stdout",
     "output_type": "stream",
     "text": [
      "{'h': 1, 'e': 4, 'l': 2, 'o': 3, ',': 1, ' ': 7, 'i': 3, 'a': 3, 'm': 2, 's': 1, 'c': 2, '.': 1, 'n': 1, 't': 2, 'y': 1, 'u': 1}\n"
     ]
    }
   ],
   "source": [
    "test_str = 'hello, I am isaac. Nice to meet you'\n",
    "\n",
    "## write your code here\n",
    "str_lower = test_str.lower()\n",
    "#print(str_lower)\n",
    "\n",
    "all_freq = {}\n",
    "\n",
    "for i in str_lower:\n",
    "    if i in all_freq:\n",
    "        all_freq[i] += 1\n",
    "    else:\n",
    "        all_freq[i] =1\n",
    "        \n",
    "print(all_freq)"
   ]
  },
  {
   "cell_type": "markdown",
   "id": "6570c6e5",
   "metadata": {},
   "source": [
    "# Find the longest word in the list"
   ]
  },
  {
   "cell_type": "code",
   "execution_count": 230,
   "id": "144a5435",
   "metadata": {},
   "outputs": [
    {
     "name": "stdout",
     "output_type": "stream",
     "text": [
      "the longest word is the list is: christina\n"
     ]
    }
   ],
   "source": [
    "my_list = ['isaac', 'judy', 'christina', 'ann']\n",
    "\n",
    "## write your code here\n",
    "max_long_word=''\n",
    "\n",
    "for i in range(len(my_list)):\n",
    "    if len(my_list[i]) >= len(max_long_word):\n",
    "        max_long_word = my_list[i]\n",
    "\n",
    "print('the longest word is the list is: {}'.format(max_long_word))\n"
   ]
  },
  {
   "cell_type": "code",
   "execution_count": 234,
   "id": "86feca38",
   "metadata": {},
   "outputs": [
    {
     "name": "stdout",
     "output_type": "stream",
     "text": [
      "the longest word is the list is: christina\n"
     ]
    }
   ],
   "source": [
    "#老師解\n",
    "my_list = ['isaac', 'judy', 'christina', 'ann']\n",
    "max_long_word = my_list[0]\n",
    "\n",
    "for i in my_list:\n",
    "    #print(i)\n",
    "    if len(max_long_word) < len(i):\n",
    "        max_long_word = i\n",
    "        \n",
    "print('the longest word is the list is: {}'.format(max_long_word))"
   ]
  },
  {
   "cell_type": "markdown",
   "id": "44a071f4",
   "metadata": {},
   "source": [
    "# 練習5"
   ]
  },
  {
   "cell_type": "markdown",
   "id": "bdcfd11e",
   "metadata": {},
   "source": [
    "# Given two vector, calculate distance between them"
   ]
  },
  {
   "cell_type": "code",
   "execution_count": 251,
   "id": "87411704",
   "metadata": {},
   "outputs": [
    {
     "name": "stdout",
     "output_type": "stream",
     "text": [
      "distance is: 3.0\n"
     ]
    }
   ],
   "source": [
    "vector1 = [1, 2, 1]\n",
    "vector2 = [3, 4, 2]\n",
    "\n",
    "## write your code here\n",
    "diff_sum = 0\n",
    "\n",
    "for i in range(len(vector1)):\n",
    "    diff_sum += (vector1[i] - vector2[i]) ** 2\n",
    "    \n",
    "distance = diff_sum ** 0.5\n",
    "print('distance is: {}'.format(distance))"
   ]
  },
  {
   "cell_type": "markdown",
   "id": "c037d9fd",
   "metadata": {},
   "source": [
    "# Ask the user for a string and print out whether this string is a palindrome or not. (A palindrome is a string that reads the same forwards and backwards.)"
   ]
  },
  {
   "cell_type": "code",
   "execution_count": 249,
   "id": "1c6ccf24",
   "metadata": {},
   "outputs": [
    {
     "name": "stdout",
     "output_type": "stream",
     "text": [
      "give me a word:\n",
      "123321\n",
      "123321\n",
      "This is a Palindrome\n"
     ]
    }
   ],
   "source": [
    "word = input('give me a word:\\n')\n",
    "\n",
    "## write your code here\n",
    "\n",
    "backwards = list(word)\n",
    "backwards.reverse()\n",
    "backwards = ''.join(backwards)\n",
    "print(backwards)\n",
    "\n",
    "if backwards == word:\n",
    "    print('This is a Palindrome')\n",
    "else:\n",
    "    print('This is NOT a Palindrome')"
   ]
  },
  {
   "cell_type": "code",
   "execution_count": 253,
   "id": "89a0456e",
   "metadata": {},
   "outputs": [
    {
     "name": "stdout",
     "output_type": "stream",
     "text": [
      "give me a word:\n",
      "aabbaa\n",
      "This is a Palindrome\n"
     ]
    }
   ],
   "source": [
    "word = input('give me a word:\\n')\n",
    "reverse_word = ''\n",
    "for i in range(len(word)):\n",
    "    reverse_word += word[len(word)-1-i]\n",
    "\n",
    "if reverse_word == word:\n",
    "    print('This is a Palindrome')\n",
    "else:\n",
    "    print('This is NOT a Palindrome')"
   ]
  },
  {
   "cell_type": "markdown",
   "id": "afa20aaa",
   "metadata": {},
   "source": [
    "# 補充練習"
   ]
  },
  {
   "cell_type": "markdown",
   "id": "15418939",
   "metadata": {},
   "source": [
    "# 請輸入一個正整數N，並計算1/1+1/2+... ... + 1/N"
   ]
  },
  {
   "cell_type": "code",
   "execution_count": 257,
   "id": "a3ab70e7",
   "metadata": {},
   "outputs": [
    {
     "name": "stdout",
     "output_type": "stream",
     "text": [
      "5\n",
      "result: 1.0, i: 1, 1/i: 1.0\n",
      "result: 1.5, i: 2, 1/i: 0.5\n",
      "result: 1.8333333333333333, i: 3, 1/i: 0.3333333333333333\n",
      "result: 2.083333333333333, i: 4, 1/i: 0.25\n",
      "result: 2.283333333333333, i: 5, 1/i: 0.2\n",
      "result is 2.283333333333333\n"
     ]
    }
   ],
   "source": [
    "number = int(input())\n",
    "\n",
    "result = 0\n",
    "for i in range(1,number+1):\n",
    "    result = result + 1/i\n",
    "    print('result: {}, i: {}, 1/i: {}'.format(result, i, 1/i))\n",
    "\n",
    "print('result is',result)"
   ]
  },
  {
   "cell_type": "markdown",
   "id": "a1fbe39c",
   "metadata": {},
   "source": [
    "# 請輸入一個正整數N，如果N是偶數，則計算N* (N-2)* ....* 2，如果N是奇數，則計算N* (N-2)* ....* 1"
   ]
  },
  {
   "cell_type": "code",
   "execution_count": 259,
   "id": "ac1df016",
   "metadata": {},
   "outputs": [
    {
     "name": "stdout",
     "output_type": "stream",
     "text": [
      "7\n",
      "result: 7, number: 5\n",
      "result: 35, number: 3\n",
      "result: 105, number: 1\n",
      "result: 105, number: -1\n",
      "105\n"
     ]
    }
   ],
   "source": [
    "# N = 10 => 10*8*...*2\n",
    "# N = 9 => 9*7*...*1\n",
    "\n",
    "number = int(input())\n",
    "result = 1\n",
    "while number > 0:\n",
    "    result = result * number\n",
    "    number = number - 2\n",
    "    print('result: {}, number: {}'.format(result, number))\n",
    "print(result)"
   ]
  },
  {
   "cell_type": "markdown",
   "id": "e78f2e7c",
   "metadata": {},
   "source": [
    "# 請計算以下的list，有多少個數字能同時被5且被2整除"
   ]
  },
  {
   "cell_type": "code",
   "execution_count": 262,
   "id": "ac75412f",
   "metadata": {},
   "outputs": [
    {
     "name": "stdout",
     "output_type": "stream",
     "text": [
      "2\n"
     ]
    }
   ],
   "source": [
    "test_list = [12, 13, 100, 120, 76, 88 , 9]\n",
    "\n",
    "count = 0\n",
    "\n",
    "for i in test_list:\n",
    "    if i%5==0 and i%2==0:\n",
    "        count += 1\n",
    "print(count)"
   ]
  },
  {
   "cell_type": "markdown",
   "id": "9159b2d8",
   "metadata": {},
   "source": [
    "# 輸入一個字串，請先反轉字串，然後再把偶數個字元取出變成一個新的字串"
   ]
  },
  {
   "cell_type": "code",
   "execution_count": 264,
   "id": "fb4ee890",
   "metadata": {},
   "outputs": [
    {
     "name": "stdout",
     "output_type": "stream",
     "text": [
      "Input a word: isaacabc123\n",
      "321cbacaasi\n",
      "2\n",
      "c\n",
      "a\n",
      "a\n",
      "s\n",
      "2caas\n"
     ]
    }
   ],
   "source": [
    "# isaacabc123 => 321cbacaasi => 2caas\n",
    "# helloworld => dlrowolleh => loolh\n",
    "\n",
    "word = input(\"Input a word: \")\n",
    "\n",
    "word_lst = list(word)\n",
    "word_lst.reverse()\n",
    "reverse_word = ''.join(word_lst)\n",
    "print(reverse_word)\n",
    "tmp=[]\n",
    "for index, i in enumerate(reverse_word):\n",
    "    if index % 2 == 1:\n",
    "        tmp.append(i)\n",
    "        print(i)\n",
    "\n",
    "result = ''.join(tmp)\n",
    "print(result)"
   ]
  },
  {
   "cell_type": "markdown",
   "id": "ddac08d6",
   "metadata": {},
   "source": [
    "# 請輸入兩個正整數，請去找出這兩個正整數的最大公因數"
   ]
  },
  {
   "cell_type": "code",
   "execution_count": 267,
   "id": "62a7a630",
   "metadata": {},
   "outputs": [
    {
     "name": "stdout",
     "output_type": "stream",
     "text": [
      "12\n",
      "15\n",
      "3\n"
     ]
    }
   ],
   "source": [
    "# 12 ,15  => 3\n",
    "# 10 ,12  => 2\n",
    "# 12 ,24 => 12\n",
    "\n",
    "num1 = int(input())\n",
    "num2 = int(input())\n",
    "\n",
    "max_num = 1\n",
    "for i in range(1, min(num1, num2)+1):\n",
    "    if num1%i == 0 and num2%i == 0:\n",
    "        max_num = i\n",
    "print(max_num)"
   ]
  },
  {
   "cell_type": "code",
   "execution_count": null,
   "id": "1bb9f26d",
   "metadata": {},
   "outputs": [],
   "source": []
  }
 ],
 "metadata": {
  "kernelspec": {
   "display_name": "Python 3 (ipykernel)",
   "language": "python",
   "name": "python3"
  },
  "language_info": {
   "codemirror_mode": {
    "name": "ipython",
    "version": 3
   },
   "file_extension": ".py",
   "mimetype": "text/x-python",
   "name": "python",
   "nbconvert_exporter": "python",
   "pygments_lexer": "ipython3",
   "version": "3.8.12"
  }
 },
 "nbformat": 4,
 "nbformat_minor": 5
}
