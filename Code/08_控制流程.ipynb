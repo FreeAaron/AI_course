{
 "cells": [
  {
   "cell_type": "markdown",
   "id": "7744d851",
   "metadata": {},
   "source": [
    "# if/else/elif syntax"
   ]
  },
  {
   "cell_type": "code",
   "execution_count": 4,
   "id": "1f972132",
   "metadata": {},
   "outputs": [
    {
     "name": "stdout",
     "output_type": "stream",
     "text": [
      "excellent\n"
     ]
    }
   ],
   "source": [
    "grade = 91\n",
    "\n",
    "if grade > 90:\n",
    "    print('excellent')\n",
    "else:\n",
    "    print('you have to practice more!!!')\n",
    "    \n",
    "    #選一"
   ]
  },
  {
   "cell_type": "code",
   "execution_count": 3,
   "id": "129157bb",
   "metadata": {},
   "outputs": [
    {
     "name": "stdout",
     "output_type": "stream",
     "text": [
      "excellent\n",
      "good\n"
     ]
    }
   ],
   "source": [
    "grade = 91\n",
    "\n",
    "if grade > 90:\n",
    "    print('excellent')\n",
    "    \n",
    "if grade > 60:\n",
    "    print('good')\n",
    "    \n",
    "    #有可能兩個都滿足"
   ]
  },
  {
   "cell_type": "code",
   "execution_count": 5,
   "id": "8ad87e46",
   "metadata": {},
   "outputs": [
    {
     "name": "stdout",
     "output_type": "stream",
     "text": [
      "excellent\n",
      "good\n",
      "always excute!\n"
     ]
    }
   ],
   "source": [
    "grade = 95\n",
    "\n",
    "\n",
    "if grade > 90:\n",
    "    print('excellent')\n",
    "if grade > 60:\n",
    "    print('good')\n",
    "print('always excute!')\n",
    "#最後一行永遠都會被執行"
   ]
  },
  {
   "cell_type": "code",
   "execution_count": 7,
   "id": "551a2925",
   "metadata": {},
   "outputs": [
    {
     "name": "stdout",
     "output_type": "stream",
     "text": [
      "you have to practice more!!!\n"
     ]
    }
   ],
   "source": [
    "grade = 30\n",
    "\n",
    "if grade > 90:\n",
    "    print('excellent')\n",
    "elif grade > 60:\n",
    "    print('good')\n",
    "elif grade > 30:\n",
    "    print('so so')\n",
    "else:\n",
    "    print('you have to practice more!!!')\n",
    "    \n",
    "#只會有一個成立"
   ]
  },
  {
   "cell_type": "code",
   "execution_count": 10,
   "id": "d2b998c6",
   "metadata": {},
   "outputs": [
    {
     "name": "stdout",
     "output_type": "stream",
     "text": [
      "At least one of the conditions is Ture\n"
     ]
    }
   ],
   "source": [
    "a = 200\n",
    "b = 33\n",
    "c = 500\n",
    "if a > b or a > c:\n",
    "    print(\"At least one of the conditions is Ture\")"
   ]
  },
  {
   "cell_type": "code",
   "execution_count": 13,
   "id": "7c66023a",
   "metadata": {},
   "outputs": [
    {
     "name": "stdout",
     "output_type": "stream",
     "text": [
      "Always True\n"
     ]
    }
   ],
   "source": [
    "a = 200\n",
    "b = 33\n",
    "c = 500\n",
    "if (a > b or a > c) and True:\n",
    "    print('Always True')"
   ]
  },
  {
   "cell_type": "code",
   "execution_count": 22,
   "id": "dcc90db3",
   "metadata": {},
   "outputs": [
    {
     "name": "stdout",
     "output_type": "stream",
     "text": [
      "true\n"
     ]
    }
   ],
   "source": [
    "if -1:\n",
    "    print('true')\n",
    "else:\n",
    "    print('false')\n",
    "\n",
    "    #0是false其他非零都是true"
   ]
  },
  {
   "cell_type": "code",
   "execution_count": 23,
   "id": "93d2fe1b",
   "metadata": {},
   "outputs": [
    {
     "name": "stdout",
     "output_type": "stream",
     "text": [
      "false\n"
     ]
    }
   ],
   "source": [
    "if 0:\n",
    "    print('true')\n",
    "else:\n",
    "    print('false')"
   ]
  },
  {
   "cell_type": "code",
   "execution_count": 24,
   "id": "e6202475",
   "metadata": {},
   "outputs": [
    {
     "name": "stdout",
     "output_type": "stream",
     "text": [
      "true\n"
     ]
    }
   ],
   "source": [
    "if True:\n",
    "    print('true')\n",
    "else:\n",
    "    print('false')"
   ]
  },
  {
   "cell_type": "code",
   "execution_count": 25,
   "id": "b5f1c547",
   "metadata": {},
   "outputs": [
    {
     "name": "stdout",
     "output_type": "stream",
     "text": [
      "Above ten,\n",
      "and also above 20!\n"
     ]
    }
   ],
   "source": [
    "x = 35\n",
    "\n",
    "if x > 10:\n",
    "    print(\"Above ten,\")\n",
    "    if x > 20:\n",
    "        print(\"and also above 20!\")\n",
    "    else:\n",
    "        print(\"but not above 20.\")"
   ]
  },
  {
   "cell_type": "markdown",
   "id": "5ce0e741",
   "metadata": {},
   "source": [
    "# 練習1"
   ]
  },
  {
   "cell_type": "markdown",
   "id": "45e8dfea",
   "metadata": {},
   "source": [
    "# Swap number in variable a and variable b"
   ]
  },
  {
   "cell_type": "code",
   "execution_count": 26,
   "id": "490e4201",
   "metadata": {},
   "outputs": [
    {
     "name": "stdout",
     "output_type": "stream",
     "text": [
      "before swap: a:5, b:3\n",
      "before swap: a:3, b:5\n"
     ]
    }
   ],
   "source": [
    "a = 5\n",
    "b = 3\n",
    "\n",
    "print('before swap: a:{}, b:{}'.format(a,b))\n",
    "\n",
    "## write your code here\n",
    "\n",
    "tmp = b\n",
    "b = a\n",
    "a = tmp\n",
    "\n",
    "print('before swap: a:{}, b:{}'.format(a,b))"
   ]
  },
  {
   "cell_type": "markdown",
   "id": "3732bf52",
   "metadata": {},
   "source": [
    "# input a character, print True if it is a vowel, False otherwise."
   ]
  },
  {
   "cell_type": "code",
   "execution_count": 33,
   "id": "2fd10fb7",
   "metadata": {},
   "outputs": [
    {
     "name": "stdout",
     "output_type": "stream",
     "text": [
      "i\n",
      "True\n"
     ]
    }
   ],
   "source": [
    "char = input()\n",
    "vowel\n",
    "#if char=='a' or char=='e' or char=='i' or char=='o' or char=='u':\n",
    "    print('True')\n",
    "else:\n",
    "    print('False')"
   ]
  },
  {
   "cell_type": "markdown",
   "id": "b70fb605",
   "metadata": {},
   "source": [
    "# input a integer limited from 0 to 100  \n",
    "## print A if this number is 90~100\n",
    "## print B if this number is 60~ 90\n",
    "## print C if this number is 0~60"
   ]
  },
  {
   "cell_type": "code",
   "execution_count": 38,
   "id": "7d628131",
   "metadata": {},
   "outputs": [
    {
     "name": "stdout",
     "output_type": "stream",
     "text": [
      "your integer:65\n",
      "65 is rank: B\n"
     ]
    }
   ],
   "source": [
    "score = int(input('your integer:'))\n",
    "rank = None\n",
    "\n",
    "## write your code here\n",
    "if 100 >= score >= 90:\n",
    "    rank = 'A'\n",
    "if 90 >= score >= 60:\n",
    "    rank = 'B'\n",
    "if 60 >= score >= 0:\n",
    "    rank = 'C'\n",
    "\n",
    "if rank != None:\n",
    "    print('{} is rank: {}'.format(score, rank))\n",
    "else:\n",
    "    print('input digit should be between 0~100')"
   ]
  },
  {
   "cell_type": "code",
   "execution_count": null,
   "id": "8974b228",
   "metadata": {},
   "outputs": [],
   "source": []
  }
 ],
 "metadata": {
  "kernelspec": {
   "display_name": "Python 3 (ipykernel)",
   "language": "python",
   "name": "python3"
  },
  "language_info": {
   "codemirror_mode": {
    "name": "ipython",
    "version": 3
   },
   "file_extension": ".py",
   "mimetype": "text/x-python",
   "name": "python",
   "nbconvert_exporter": "python",
   "pygments_lexer": "ipython3",
   "version": "3.8.12"
  }
 },
 "nbformat": 4,
 "nbformat_minor": 5
}
