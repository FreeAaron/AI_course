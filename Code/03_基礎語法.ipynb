{
 "cells": [
  {
   "cell_type": "markdown",
   "id": "1c769157",
   "metadata": {},
   "source": [
    "# Python keyword"
   ]
  },
  {
   "cell_type": "code",
   "execution_count": 1,
   "id": "e147c400",
   "metadata": {},
   "outputs": [
    {
     "name": "stdout",
     "output_type": "stream",
     "text": [
      "['False', 'None', 'True', 'and', 'as', 'assert', 'async', 'await', 'break', 'class', 'continue', 'def', 'del', 'elif', 'else', 'except', 'finally', 'for', 'from', 'global', 'if', 'import', 'in', 'is', 'lambda', 'nonlocal', 'not', 'or', 'pass', 'raise', 'return', 'try', 'while', 'with', 'yield']\n"
     ]
    }
   ],
   "source": [
    "import keyword\n",
    "\n",
    "print(keyword.kwlist)"
   ]
  },
  {
   "cell_type": "code",
   "execution_count": 3,
   "id": "49df4488",
   "metadata": {},
   "outputs": [
    {
     "name": "stdout",
     "output_type": "stream",
     "text": [
      "True\n"
     ]
    }
   ],
   "source": [
    "print(keyword.iskeyword('if'))"
   ]
  },
  {
   "cell_type": "code",
   "execution_count": 4,
   "id": "ec9649b7",
   "metadata": {},
   "outputs": [
    {
     "name": "stdout",
     "output_type": "stream",
     "text": [
      "False\n"
     ]
    }
   ],
   "source": [
    "print(keyword.iskeyword(\"IF\"))"
   ]
  },
  {
   "cell_type": "markdown",
   "id": "50f7b684",
   "metadata": {},
   "source": [
    "# 多行敘述\n",
    "> 在 Python 程式語言裡面，可以使用反斜線(\\\\)做多行敘述  \n",
    "* 可以把多行視為是同一行指令\n"
   ]
  },
  {
   "cell_type": "code",
   "execution_count": 25,
   "id": "a82a2143",
   "metadata": {},
   "outputs": [
    {
     "name": "stdout",
     "output_type": "stream",
     "text": [
      "do something\n"
     ]
    }
   ],
   "source": [
    "a=7\n",
    "b=6\n",
    "c=5\n",
    "d=0\n",
    "if a < 10 and b > 5 \\\n",
    "    and c < 6 and d > -1:\n",
    "        print('do something')"
   ]
  },
  {
   "cell_type": "markdown",
   "id": "bb32e164",
   "metadata": {},
   "source": [
    "# Identifier\n",
    "identifier 是用來區分不同變數(variable)、函數(function)、類別 (class) 的名稱"
   ]
  },
  {
   "cell_type": "code",
   "execution_count": 6,
   "id": "dff3bcbf",
   "metadata": {},
   "outputs": [
    {
     "name": "stdout",
     "output_type": "stream",
     "text": [
      "True\n"
     ]
    }
   ],
   "source": [
    "print(\"abc\".isidentifier())"
   ]
  },
  {
   "cell_type": "code",
   "execution_count": 7,
   "id": "8a15ad67",
   "metadata": {},
   "outputs": [
    {
     "name": "stdout",
     "output_type": "stream",
     "text": [
      "False\n"
     ]
    }
   ],
   "source": [
    "print(\"99a\".isidentifier())"
   ]
  },
  {
   "cell_type": "code",
   "execution_count": 8,
   "id": "363dd70c",
   "metadata": {},
   "outputs": [
    {
     "name": "stdout",
     "output_type": "stream",
     "text": [
      "True\n"
     ]
    }
   ],
   "source": [
    "print(\"_\".isidentifier())"
   ]
  },
  {
   "cell_type": "code",
   "execution_count": 24,
   "id": "9a4b580c",
   "metadata": {},
   "outputs": [
    {
     "name": "stdout",
     "output_type": "stream",
     "text": [
      "True\n"
     ]
    }
   ],
   "source": [
    "print(\"for\".isidentifier()) #合法但不建議使用 因為是keyword"
   ]
  },
  {
   "cell_type": "code",
   "execution_count": 12,
   "id": "6a79ec6e",
   "metadata": {},
   "outputs": [
    {
     "data": {
      "text/plain": [
       "'\\nthis is XXX  \\njupyter notebook預設會把最後一行結果顯示出來\\n'"
      ]
     },
     "execution_count": 12,
     "metadata": {},
     "output_type": "execute_result"
    }
   ],
   "source": [
    "#this is my note\n",
    "'''\n",
    "this is XXX  \n",
    "jupyter notebook預設會把最後一行結果顯示出來\n",
    "'''"
   ]
  },
  {
   "cell_type": "markdown",
   "id": "fe0a52cb",
   "metadata": {},
   "source": [
    "# Basic Operator"
   ]
  },
  {
   "cell_type": "code",
   "execution_count": 13,
   "id": "21e67b15",
   "metadata": {},
   "outputs": [
    {
     "name": "stdout",
     "output_type": "stream",
     "text": [
      "abc123456\n",
      "abcdef\n"
     ]
    }
   ],
   "source": [
    "a = 'abc123456'\n",
    "b = 'abcdef'\n",
    "\n",
    "print(a)\n",
    "print(b)"
   ]
  },
  {
   "cell_type": "code",
   "execution_count": 14,
   "id": "ee549f7c",
   "metadata": {},
   "outputs": [
    {
     "name": "stdout",
     "output_type": "stream",
     "text": [
      "2\n",
      "3\n",
      "5\n"
     ]
    }
   ],
   "source": [
    "a = 2\n",
    "b = 3\n",
    "c = a + b\n",
    "print(a)\n",
    "print(b)\n",
    "print(c)"
   ]
  },
  {
   "cell_type": "code",
   "execution_count": 15,
   "id": "fa038a8a",
   "metadata": {},
   "outputs": [
    {
     "name": "stdout",
     "output_type": "stream",
     "text": [
      "-1\n"
     ]
    }
   ],
   "source": [
    "c = a - b\n",
    "print(c)"
   ]
  },
  {
   "cell_type": "code",
   "execution_count": 18,
   "id": "e3423a36",
   "metadata": {},
   "outputs": [
    {
     "name": "stdout",
     "output_type": "stream",
     "text": [
      "6\n"
     ]
    }
   ],
   "source": [
    "c= a * b\n",
    "print(c)"
   ]
  },
  {
   "cell_type": "code",
   "execution_count": 20,
   "id": "ae50a413",
   "metadata": {},
   "outputs": [
    {
     "name": "stdout",
     "output_type": "stream",
     "text": [
      "0\n"
     ]
    }
   ],
   "source": [
    "print(a//b)\n",
    "#小數點捨去"
   ]
  },
  {
   "cell_type": "code",
   "execution_count": 21,
   "id": "329678e3",
   "metadata": {},
   "outputs": [
    {
     "name": "stdout",
     "output_type": "stream",
     "text": [
      "8\n"
     ]
    }
   ],
   "source": [
    "print(a**b)\n",
    "#**為幾次方"
   ]
  },
  {
   "cell_type": "markdown",
   "id": "dd3c90cc",
   "metadata": {},
   "source": [
    "# print function"
   ]
  },
  {
   "cell_type": "code",
   "execution_count": 22,
   "id": "56b2d162",
   "metadata": {},
   "outputs": [
    {
     "name": "stdout",
     "output_type": "stream",
     "text": [
      "a is 3,b is 2, c is 1\n"
     ]
    }
   ],
   "source": [
    "a = 3\n",
    "b = 2\n",
    "c = 1\n",
    "print('a is {},b is {}, c is {}'.format(a, b, c))"
   ]
  },
  {
   "cell_type": "code",
   "execution_count": 23,
   "id": "2ce5df31",
   "metadata": {},
   "outputs": [
    {
     "name": "stdout",
     "output_type": "stream",
     "text": [
      "這是第一行\n",
      "這是第二行\n",
      "這是第三行\n"
     ]
    }
   ],
   "source": [
    "print('這是第一行\\n這是第二行\\n這是第三行')"
   ]
  },
  {
   "cell_type": "code",
   "execution_count": 26,
   "id": "6b996dce",
   "metadata": {},
   "outputs": [
    {
     "name": "stdout",
     "output_type": "stream",
     "text": [
      "兩個斜線可以留住像\\n這種逃脫字元\n"
     ]
    }
   ],
   "source": [
    "print('兩個斜線可以留住像\\\\n這種逃脫字元')"
   ]
  },
  {
   "cell_type": "markdown",
   "id": "d9fbece4",
   "metadata": {},
   "source": [
    "> ### 縮排(indentation)可以用tab或四個空白鍵，但不要混用，會出現錯誤"
   ]
  },
  {
   "cell_type": "code",
   "execution_count": 27,
   "id": "01cda47f",
   "metadata": {},
   "outputs": [
    {
     "name": "stdout",
     "output_type": "stream",
     "text": [
      "print結束預設已經會給一個換行\n",
      "第二行\n"
     ]
    }
   ],
   "source": [
    "print('print結束預設已經會給一個換行',end='\\n')\n",
    "print('第二行')"
   ]
  },
  {
   "cell_type": "code",
   "execution_count": 28,
   "id": "27f99adf",
   "metadata": {},
   "outputs": [
    {
     "name": "stdout",
     "output_type": "stream",
     "text": [
      "所以如果不要換行 可以這樣結尾"
     ]
    }
   ],
   "source": [
    "print('所以如果不要換行',end=' ')\n",
    "print('可以這樣結尾',end='')"
   ]
  },
  {
   "cell_type": "markdown",
   "id": "56fcb4cb",
   "metadata": {},
   "source": [
    "### Jupyter Notebook 快捷鍵參考資料\n",
    "> https://www.itread01.com/content/1547103635.html "
   ]
  },
  {
   "cell_type": "markdown",
   "id": "fa77a05a",
   "metadata": {},
   "source": [
    "# input function\n",
    "---\n",
    "> ## input函數可以讓使用者從鍵盤上輸入任意\"字串\"(預設為字串) "
   ]
  },
  {
   "cell_type": "code",
   "execution_count": 1,
   "id": "06871d32",
   "metadata": {},
   "outputs": [
    {
     "name": "stdout",
     "output_type": "stream",
     "text": [
      "input a number456123\n",
      "you input 456123\n"
     ]
    }
   ],
   "source": [
    "number = input('input a number')\n",
    "print('you input {}'.format(number))"
   ]
  },
  {
   "cell_type": "code",
   "execution_count": 2,
   "id": "259dc04e",
   "metadata": {},
   "outputs": [
    {
     "name": "stdout",
     "output_type": "stream",
     "text": [
      "input a number123456\n",
      "<class 'str'>\n"
     ]
    }
   ],
   "source": [
    "number = input('input a number')\n",
    "print(type(number))"
   ]
  },
  {
   "cell_type": "code",
   "execution_count": 1,
   "id": "1b2b517c",
   "metadata": {},
   "outputs": [
    {
     "name": "stdout",
     "output_type": "stream",
     "text": [
      "input a number233456\n",
      "<class 'float'>\n",
      "<class 'int'>\n"
     ]
    }
   ],
   "source": [
    "number = input('input a number')\n",
    "float_number = float(number)\n",
    "int_number = int(number)\n",
    "print(type(float_number))\n",
    "print(type(int_number))"
   ]
  },
  {
   "cell_type": "code",
   "execution_count": 2,
   "id": "b504b9d4",
   "metadata": {},
   "outputs": [
    {
     "name": "stdout",
     "output_type": "stream",
     "text": [
      "input a width: 5.5\n",
      "input a height: 3.2\n",
      "area of rectangle is 17.6\n"
     ]
    }
   ],
   "source": [
    "width = input('input a width: ')\n",
    "height = input('input a height: ')\n",
    "\n",
    "rec_area = float(width) * float(height)\n",
    "print('area of rectangle is {}'.format(rec_area))"
   ]
  },
  {
   "cell_type": "markdown",
   "id": "85f9e398",
   "metadata": {},
   "source": [
    "# 練習1"
   ]
  },
  {
   "cell_type": "markdown",
   "id": "faf8a5eb",
   "metadata": {},
   "source": [
    "# Given weight and height of a person,  calculate BMI  \n",
    "Definition: $ \\text{BMI} = \\frac{\\text{weight}}{\\text{height}^2} $"
   ]
  },
  {
   "cell_type": "code",
   "execution_count": 12,
   "id": "94b9fadc",
   "metadata": {},
   "outputs": [
    {
     "name": "stdout",
     "output_type": "stream",
     "text": [
      "input a height:179\n",
      "input a weight:68.7\n",
      "Your BMI is 21.44127836209856\n",
      "21.44127836209856\n"
     ]
    }
   ],
   "source": [
    "height = input('input a height:')\n",
    "weight = input('input a weight:')\n",
    "height_m = float(height)/100\n",
    "\n",
    "BMI = float(weight) / (height_m ** 2)\n",
    "print('Your BMI is {}'.format(BMI))\n",
    "print(BMI)"
   ]
  },
  {
   "cell_type": "markdown",
   "id": "ce6f7710",
   "metadata": {},
   "source": [
    "# Write a Python program which accepts the radius of a circle from the user and compute the area.  \n",
    "## hint: assume pi = 3.14"
   ]
  },
  {
   "cell_type": "code",
   "execution_count": 6,
   "id": "bd664fa1",
   "metadata": {},
   "outputs": [
    {
     "name": "stdout",
     "output_type": "stream",
     "text": [
      "Input the radius of the circle : 3\n",
      "The area_1 of the circle with radius is: 28.26\n",
      "The area_2 of the circle with radius is: 28.259999999999998\n",
      "28.274333882308138\n",
      "28.274333882308138\n"
     ]
    }
   ],
   "source": [
    "## write your code here\n",
    "radius = float(input('Input the radius of the circle : '))\n",
    "pi = 3.14\n",
    "area_1 = radius * radius * pi\n",
    "area_2 = pi * radius * radius \n",
    "\n",
    "print(\"The area_1 of the circle with radius is: {}\".format(area_1))\n",
    "print(\"The area_2 of the circle with radius is: {}\".format(area_2))\n",
    "\n",
    "#竟然順序有差!?~\n",
    "#python沒有double\n",
    "\n",
    "import math\n",
    "r= 3\n",
    "print(r*r*math.pi)\n",
    "print(math.pi*r*r)\n",
    "#建議用套件的Pi"
   ]
  },
  {
   "cell_type": "markdown",
   "id": "ba65c34a",
   "metadata": {},
   "source": [
    "# Please do temperature conversion. Given a Celsius temperature, please change it to Fahrenheit"
   ]
  },
  {
   "cell_type": "code",
   "execution_count": 34,
   "id": "a8d9db8d",
   "metadata": {},
   "outputs": [
    {
     "name": "stdout",
     "output_type": "stream",
     "text": [
      "0\n",
      "celsius is: 0\n",
      "Fahrenheit is: 32.0\n"
     ]
    }
   ],
   "source": [
    "c = int(input())\n",
    "print('celsius is: ', end='')\n",
    "print(c)\n",
    "\n",
    "## write your code here\n",
    "\n",
    "F = c * 1.8 + 32\n",
    "print('Fahrenheit is: ', end='')\n",
    "print(F)\n"
   ]
  },
  {
   "cell_type": "code",
   "execution_count": 30,
   "id": "985b1ae8",
   "metadata": {},
   "outputs": [
    {
     "data": {
      "text/plain": [
       "False"
      ]
     },
     "execution_count": 30,
     "metadata": {},
     "output_type": "execute_result"
    }
   ],
   "source": [
    "1/10 + 1/10 + 1/10 == .3"
   ]
  },
  {
   "cell_type": "code",
   "execution_count": 26,
   "id": "f1d38a29",
   "metadata": {},
   "outputs": [
    {
     "data": {
      "text/plain": [
       "False"
      ]
     },
     "execution_count": 26,
     "metadata": {},
     "output_type": "execute_result"
    }
   ],
   "source": [
    ".1 + .1 + .1 == .3"
   ]
  },
  {
   "cell_type": "code",
   "execution_count": 27,
   "id": "b26eae24",
   "metadata": {},
   "outputs": [
    {
     "data": {
      "text/plain": [
       "True"
      ]
     },
     "execution_count": 27,
     "metadata": {},
     "output_type": "execute_result"
    }
   ],
   "source": [
    "1 + 1 + 1 == 3"
   ]
  },
  {
   "cell_type": "code",
   "execution_count": 29,
   "id": "b8ad930c",
   "metadata": {},
   "outputs": [
    {
     "data": {
      "text/plain": [
       "False"
      ]
     },
     "execution_count": 29,
     "metadata": {},
     "output_type": "execute_result"
    }
   ],
   "source": [
    "1/10 + 1/10 + 1/10 == 3/10"
   ]
  },
  {
   "cell_type": "code",
   "execution_count": 31,
   "id": "aaad238c",
   "metadata": {},
   "outputs": [
    {
     "name": "stdout",
     "output_type": "stream",
     "text": [
      "1000000000.0\n"
     ]
    }
   ],
   "source": [
    "a=1e9\n",
    "print(a)"
   ]
  },
  {
   "cell_type": "code",
   "execution_count": 32,
   "id": "43ed1f25",
   "metadata": {},
   "outputs": [
    {
     "name": "stdout",
     "output_type": "stream",
     "text": [
      "0.001333\n"
     ]
    }
   ],
   "source": [
    "a=1.333e-3\n",
    "print(a)"
   ]
  },
  {
   "cell_type": "markdown",
   "id": "7c4e9893",
   "metadata": {},
   "source": [
    "# https://docs.python.org/3/tutorial/floatingpoint.html\n"
   ]
  },
  {
   "cell_type": "markdown",
   "id": "59126b36",
   "metadata": {},
   "source": [
    "# https://kirin.idv.tw/python-decimal-module-tutorial/\n",
    "# Python – decimal 模組教學 – 四捨五入的正確作法"
   ]
  },
  {
   "cell_type": "code",
   "execution_count": 2,
   "id": "51d81215",
   "metadata": {},
   "outputs": [
    {
     "data": {
      "text/plain": [
       "Context(prec=28, rounding=ROUND_HALF_EVEN, Emin=-999999, Emax=999999, capitals=1, clamp=0, flags=[], traps=[InvalidOperation, DivisionByZero, Overflow])"
      ]
     },
     "execution_count": 2,
     "metadata": {},
     "output_type": "execute_result"
    }
   ],
   "source": [
    "from decimal import *\n",
    "getcontext()"
   ]
  },
  {
   "cell_type": "code",
   "execution_count": 3,
   "id": "f8703d0f",
   "metadata": {},
   "outputs": [
    {
     "data": {
      "text/plain": [
       "Decimal('1.1149999999999999911182158029987476766109466552734375')"
      ]
     },
     "execution_count": 3,
     "metadata": {},
     "output_type": "execute_result"
    }
   ],
   "source": [
    "from decimal import Decimal\n",
    "a = 1.115\n",
    "Decimal(a)\n",
    "#"
   ]
  },
  {
   "cell_type": "code",
   "execution_count": 8,
   "id": "eaaa33f6",
   "metadata": {},
   "outputs": [
    {
     "data": {
      "text/plain": [
       "Decimal('1.125')"
      ]
     },
     "execution_count": 8,
     "metadata": {},
     "output_type": "execute_result"
    }
   ],
   "source": [
    "#Decimal(a)的值跟想像中的不同\n",
    "b = 1.125\n",
    "Decimal(b)"
   ]
  },
  {
   "cell_type": "code",
   "execution_count": 9,
   "id": "dde2862a",
   "metadata": {},
   "outputs": [
    {
     "data": {
      "text/plain": [
       "Decimal('3.140000000000000124344978758017532527446746826171875')"
      ]
     },
     "execution_count": 9,
     "metadata": {},
     "output_type": "execute_result"
    }
   ],
   "source": [
    "pi = 3.14\n",
    "Decimal(pi)"
   ]
  },
  {
   "cell_type": "code",
   "execution_count": 11,
   "id": "dcce701e",
   "metadata": {},
   "outputs": [
    {
     "data": {
      "text/plain": [
       "1.11"
      ]
     },
     "execution_count": 11,
     "metadata": {},
     "output_type": "execute_result"
    }
   ],
   "source": [
    "round(1.115, 2)"
   ]
  },
  {
   "cell_type": "code",
   "execution_count": 12,
   "id": "79199658",
   "metadata": {},
   "outputs": [
    {
     "data": {
      "text/plain": [
       "1.12"
      ]
     },
     "execution_count": 12,
     "metadata": {},
     "output_type": "execute_result"
    }
   ],
   "source": [
    "round(1.125, 2)"
   ]
  },
  {
   "cell_type": "code",
   "execution_count": null,
   "id": "e58e392e",
   "metadata": {},
   "outputs": [],
   "source": []
  }
 ],
 "metadata": {
  "kernelspec": {
   "display_name": "Python 3 (ipykernel)",
   "language": "python",
   "name": "python3"
  },
  "language_info": {
   "codemirror_mode": {
    "name": "ipython",
    "version": 3
   },
   "file_extension": ".py",
   "mimetype": "text/x-python",
   "name": "python",
   "nbconvert_exporter": "python",
   "pygments_lexer": "ipython3",
   "version": "3.8.12"
  }
 },
 "nbformat": 4,
 "nbformat_minor": 5
}
